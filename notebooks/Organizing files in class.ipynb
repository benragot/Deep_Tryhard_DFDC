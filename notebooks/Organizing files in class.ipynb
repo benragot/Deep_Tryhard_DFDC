{
 "cells": [
  {
   "cell_type": "code",
   "execution_count": 1,
   "id": "921cec97",
   "metadata": {
    "ExecuteTime": {
     "end_time": "2022-03-01T16:24:47.223438Z",
     "start_time": "2022-03-01T16:24:46.700321Z"
    }
   },
   "outputs": [],
   "source": [
    "import pandas as pd\n",
    "import os\n",
    "import shutil\n",
    "import time\n",
    "from IPython.display import clear_output\n"
   ]
  },
  {
   "cell_type": "markdown",
   "id": "85879d52",
   "metadata": {},
   "source": [
    "# Dataframe"
   ]
  },
  {
   "cell_type": "code",
   "execution_count": 4,
   "id": "d8a33b1b",
   "metadata": {
    "ExecuteTime": {
     "end_time": "2022-03-01T13:16:07.341238Z",
     "start_time": "2022-03-01T13:16:06.938213Z"
    }
   },
   "outputs": [],
   "source": [
    "df = pd.read_csv('../Data/metadata.csv')"
   ]
  },
  {
   "cell_type": "code",
   "execution_count": 3,
   "id": "ef77d3e1",
   "metadata": {
    "ExecuteTime": {
     "end_time": "2022-03-01T13:15:57.103641Z",
     "start_time": "2022-03-01T13:15:57.033995Z"
    }
   },
   "outputs": [
    {
     "data": {
      "text/html": [
       "<div>\n",
       "<style scoped>\n",
       "    .dataframe tbody tr th:only-of-type {\n",
       "        vertical-align: middle;\n",
       "    }\n",
       "\n",
       "    .dataframe tbody tr th {\n",
       "        vertical-align: top;\n",
       "    }\n",
       "\n",
       "    .dataframe thead th {\n",
       "        text-align: right;\n",
       "    }\n",
       "</style>\n",
       "<table border=\"1\" class=\"dataframe\">\n",
       "  <thead>\n",
       "    <tr style=\"text-align: right;\">\n",
       "      <th></th>\n",
       "      <th>videoname</th>\n",
       "      <th>original_width</th>\n",
       "      <th>original_height</th>\n",
       "      <th>label</th>\n",
       "      <th>original</th>\n",
       "    </tr>\n",
       "  </thead>\n",
       "  <tbody>\n",
       "    <tr>\n",
       "      <th>0</th>\n",
       "      <td>aznyksihgl.mp4</td>\n",
       "      <td>129</td>\n",
       "      <td>129</td>\n",
       "      <td>FAKE</td>\n",
       "      <td>xnojggkrxt.mp4</td>\n",
       "    </tr>\n",
       "    <tr>\n",
       "      <th>1</th>\n",
       "      <td>gkwmalrvcj.mp4</td>\n",
       "      <td>129</td>\n",
       "      <td>129</td>\n",
       "      <td>FAKE</td>\n",
       "      <td>hqqmtxvbjj.mp4</td>\n",
       "    </tr>\n",
       "    <tr>\n",
       "      <th>2</th>\n",
       "      <td>lxnqzocgaq.mp4</td>\n",
       "      <td>223</td>\n",
       "      <td>217</td>\n",
       "      <td>FAKE</td>\n",
       "      <td>xjzkfqddyk.mp4</td>\n",
       "    </tr>\n",
       "    <tr>\n",
       "      <th>3</th>\n",
       "      <td>itsbtrrelv.mp4</td>\n",
       "      <td>186</td>\n",
       "      <td>186</td>\n",
       "      <td>FAKE</td>\n",
       "      <td>kqvepwqxfe.mp4</td>\n",
       "    </tr>\n",
       "    <tr>\n",
       "      <th>4</th>\n",
       "      <td>ddvgrczjno.mp4</td>\n",
       "      <td>155</td>\n",
       "      <td>155</td>\n",
       "      <td>FAKE</td>\n",
       "      <td>pluadmqqta.mp4</td>\n",
       "    </tr>\n",
       "  </tbody>\n",
       "</table>\n",
       "</div>"
      ],
      "text/plain": [
       "        videoname  original_width  original_height label        original\n",
       "0  aznyksihgl.mp4             129              129  FAKE  xnojggkrxt.mp4\n",
       "1  gkwmalrvcj.mp4             129              129  FAKE  hqqmtxvbjj.mp4\n",
       "2  lxnqzocgaq.mp4             223              217  FAKE  xjzkfqddyk.mp4\n",
       "3  itsbtrrelv.mp4             186              186  FAKE  kqvepwqxfe.mp4\n",
       "4  ddvgrczjno.mp4             155              155  FAKE  pluadmqqta.mp4"
      ]
     },
     "execution_count": 3,
     "metadata": {},
     "output_type": "execute_result"
    }
   ],
   "source": [
    "df.head()"
   ]
  },
  {
   "cell_type": "code",
   "execution_count": 10,
   "id": "c020daa7",
   "metadata": {
    "ExecuteTime": {
     "end_time": "2022-03-01T13:17:49.978233Z",
     "start_time": "2022-03-01T13:17:49.889277Z"
    }
   },
   "outputs": [],
   "source": [
    "df['clean_videoname'] = df['videoname'].apply(lambda x: x.split('.mp4')[0])"
   ]
  },
  {
   "cell_type": "code",
   "execution_count": 19,
   "id": "0d53e79d",
   "metadata": {
    "ExecuteTime": {
     "end_time": "2022-03-01T13:20:23.197324Z",
     "start_time": "2022-03-01T13:20:23.046407Z"
    }
   },
   "outputs": [],
   "source": [
    "df = df.set_index('clean_videoname')"
   ]
  },
  {
   "cell_type": "markdown",
   "id": "1968b919",
   "metadata": {},
   "source": [
    "# PIC LIST"
   ]
  },
  {
   "cell_type": "code",
   "execution_count": 7,
   "id": "bbc11e04",
   "metadata": {
    "ExecuteTime": {
     "end_time": "2022-03-01T13:16:43.109862Z",
     "start_time": "2022-03-01T13:16:42.911542Z"
    }
   },
   "outputs": [],
   "source": [
    "pic_list = os.listdir('../Data/faces_fakes_or_not/faces/')"
   ]
  },
  {
   "cell_type": "code",
   "execution_count": 15,
   "id": "d8f4d0f0",
   "metadata": {
    "ExecuteTime": {
     "end_time": "2022-03-01T13:18:22.530857Z",
     "start_time": "2022-03-01T13:18:22.405254Z"
    }
   },
   "outputs": [],
   "source": [
    "pic_list = [x.split('.jpg')[0] for x in pic_list]"
   ]
  },
  {
   "cell_type": "code",
   "execution_count": 24,
   "id": "fb502ef6",
   "metadata": {
    "ExecuteTime": {
     "end_time": "2022-03-01T13:21:03.127979Z",
     "start_time": "2022-03-01T13:21:03.118327Z"
    }
   },
   "outputs": [
    {
     "data": {
      "text/plain": [
       "'FAKE'"
      ]
     },
     "execution_count": 24,
     "metadata": {},
     "output_type": "execute_result"
    }
   ],
   "source": [
    "df.loc[pic_list[0]]['label']"
   ]
  },
  {
   "cell_type": "code",
   "execution_count": 40,
   "id": "96ea5e89",
   "metadata": {
    "ExecuteTime": {
     "end_time": "2022-03-01T13:31:19.354432Z",
     "start_time": "2022-03-01T13:31:19.348417Z"
    }
   },
   "outputs": [],
   "source": [
    "src = '../Data/faces_fakes_or_not/faces/'\n",
    "paths = {'FAKE' : src+'FAKE/', 'REAL': src+'REAL/'}"
   ]
  },
  {
   "cell_type": "code",
   "execution_count": null,
   "id": "903f11b9",
   "metadata": {},
   "outputs": [],
   "source": [
    "for i,pic in enumerate(pic_list):\n",
    "    clear_output(wait=True)\n",
    "    print(f\"Progressing! {i%100}\")\n",
    "    video_type = df.loc[pic]['label']\n",
    "    shutil.move(src + pic + '.jpg', paths[video_type]+pic+'.jpg')"
   ]
  },
  {
   "cell_type": "code",
   "execution_count": 2,
   "id": "795245b0",
   "metadata": {
    "ExecuteTime": {
     "end_time": "2022-03-01T16:25:31.199367Z",
     "start_time": "2022-03-01T16:25:31.193458Z"
    }
   },
   "outputs": [],
   "source": [
    "dir_path = '../Data/faces_fakes_or_not/faces/'"
   ]
  },
  {
   "cell_type": "code",
   "execution_count": 13,
   "id": "b1042b82",
   "metadata": {
    "ExecuteTime": {
     "end_time": "2022-03-01T16:29:12.585169Z",
     "start_time": "2022-03-01T16:29:12.520798Z"
    }
   },
   "outputs": [],
   "source": [
    "fakes_3_list= os.listdir(dir_path+ 'FAKE_3')"
   ]
  },
  {
   "cell_type": "code",
   "execution_count": 15,
   "id": "bc2c1ea0",
   "metadata": {
    "ExecuteTime": {
     "end_time": "2022-03-01T16:29:21.839805Z",
     "start_time": "2022-03-01T16:29:21.831699Z"
    }
   },
   "outputs": [
    {
     "data": {
      "text/plain": [
       "'gsbxsxaqeu.jpg'"
      ]
     },
     "execution_count": 15,
     "metadata": {},
     "output_type": "execute_result"
    }
   ],
   "source": [
    "fakes_3_list[0]"
   ]
  },
  {
   "cell_type": "code",
   "execution_count": 10,
   "id": "742b723c",
   "metadata": {
    "ExecuteTime": {
     "end_time": "2022-03-01T16:26:51.421549Z",
     "start_time": "2022-03-01T16:26:51.397511Z"
    }
   },
   "outputs": [],
   "source": [
    "real_2_list = os.listdir(dir_path+'REAL 2')"
   ]
  },
  {
   "cell_type": "code",
   "execution_count": null,
   "id": "5d54f8b8",
   "metadata": {},
   "outputs": [],
   "source": []
  },
  {
   "cell_type": "code",
   "execution_count": 17,
   "id": "ac53654d",
   "metadata": {
    "ExecuteTime": {
     "end_time": "2022-03-01T16:31:04.927732Z",
     "start_time": "2022-03-01T16:30:46.056447Z"
    }
   },
   "outputs": [
    {
     "name": "stdout",
     "output_type": "stream",
     "text": [
      "Progressing! 99\n"
     ]
    }
   ],
   "source": [
    "for i,pic in enumerate(real_2_list[:3500]):\n",
    "    clear_output(wait=True)\n",
    "    print(f\"Progressing! {i%100}\")\n",
    "    shutil.move(dir_path+'REAL 2/'+pic, dir_path+'REAL/'+pic)"
   ]
  },
  {
   "cell_type": "code",
   "execution_count": null,
   "id": "87d2a2c1",
   "metadata": {},
   "outputs": [],
   "source": []
  }
 ],
 "metadata": {
  "kernelspec": {
   "display_name": "Python 3 (ipykernel)",
   "language": "python",
   "name": "python3"
  },
  "language_info": {
   "codemirror_mode": {
    "name": "ipython",
    "version": 3
   },
   "file_extension": ".py",
   "mimetype": "text/x-python",
   "name": "python",
   "nbconvert_exporter": "python",
   "pygments_lexer": "ipython3",
   "version": "3.8.12"
  },
  "toc": {
   "base_numbering": 1,
   "nav_menu": {},
   "number_sections": true,
   "sideBar": true,
   "skip_h1_title": false,
   "title_cell": "Table of Contents",
   "title_sidebar": "Contents",
   "toc_cell": false,
   "toc_position": {},
   "toc_section_display": true,
   "toc_window_display": false
  }
 },
 "nbformat": 4,
 "nbformat_minor": 5
}
