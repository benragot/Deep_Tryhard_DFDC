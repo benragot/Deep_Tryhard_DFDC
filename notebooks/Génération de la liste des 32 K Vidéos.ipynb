{
 "cells": [
  {
   "cell_type": "markdown",
   "id": "8bf9b219",
   "metadata": {},
   "source": [
    "## Imports"
   ]
  },
  {
   "cell_type": "code",
   "execution_count": 2,
   "id": "055f88ff",
   "metadata": {
    "ExecuteTime": {
     "end_time": "2022-03-02T08:29:23.778819Z",
     "start_time": "2022-03-02T08:29:22.276166Z"
    }
   },
   "outputs": [],
   "source": [
    "import pandas as pd\n",
    "from google.cloud import storage\n",
    "import os"
   ]
  },
  {
   "cell_type": "markdown",
   "id": "d8c3dad2",
   "metadata": {},
   "source": [
    "## Load JSON"
   ]
  },
  {
   "cell_type": "code",
   "execution_count": 8,
   "id": "2a9c59d0",
   "metadata": {
    "ExecuteTime": {
     "end_time": "2022-03-02T08:30:13.902348Z",
     "start_time": "2022-03-02T08:30:13.895979Z"
    }
   },
   "outputs": [],
   "source": [
    "path = '../Data/json_metadata/'\n",
    "json_files = [path+file for file in os.listdir(path)]"
   ]
  },
  {
   "cell_type": "code",
   "execution_count": 9,
   "id": "b3ea32f9",
   "metadata": {
    "ExecuteTime": {
     "end_time": "2022-03-02T08:30:14.618404Z",
     "start_time": "2022-03-02T08:30:14.609111Z"
    }
   },
   "outputs": [
    {
     "data": {
      "text/plain": [
       "['../Data/json_metadata/metadata01.json',\n",
       " '../Data/json_metadata/metadata.json',\n",
       " '../Data/json_metadata/metadata32.json',\n",
       " '../Data/json_metadata/metadata42.json',\n",
       " '../Data/json_metadata/metadata24.json',\n",
       " '../Data/json_metadata/metadata44.json',\n",
       " '../Data/json_metadata/metadata2.json',\n",
       " '../Data/json_metadata/metadata9.json',\n",
       " '../Data/json_metadata/metadata21.json',\n",
       " '../Data/json_metadata/metadata35.json',\n",
       " '../Data/json_metadata/metadata30.json',\n",
       " '../Data/json_metadata/metadata34.json',\n",
       " '../Data/json_metadata/metadata48.json',\n",
       " '../Data/json_metadata/metadata13.json',\n",
       " '../Data/json_metadata/metadata8.json',\n",
       " '../Data/json_metadata/metadata37.json',\n",
       " '../Data/json_metadata/metadata4.json',\n",
       " '../Data/json_metadata/metadata11.json',\n",
       " '../Data/json_metadata/metadata19.json',\n",
       " '../Data/json_metadata/metadata31.json',\n",
       " '../Data/json_metadata/metadata41.json',\n",
       " '../Data/json_metadata/metadata6.json',\n",
       " '../Data/json_metadata/metadata17.json',\n",
       " '../Data/json_metadata/metadata36.json',\n",
       " '../Data/json_metadata/metadata7.json',\n",
       " '../Data/json_metadata/metadata47.json',\n",
       " '../Data/json_metadata/metadata39.json',\n",
       " '../Data/json_metadata/metadata43.json',\n",
       " '../Data/json_metadata/metadata27.json',\n",
       " '../Data/json_metadata/metadata3.json',\n",
       " '../Data/json_metadata/metadata20.json',\n",
       " '../Data/json_metadata/metadata23.json',\n",
       " '../Data/json_metadata/metadata22.json',\n",
       " '../Data/json_metadata/metadata_metadata49.json',\n",
       " '../Data/json_metadata/metadata12.json',\n",
       " '../Data/json_metadata/metadata40.json',\n",
       " '../Data/json_metadata/metadata45.json',\n",
       " '../Data/json_metadata/metadata15.json',\n",
       " '../Data/json_metadata/metadata26.json',\n",
       " '../Data/json_metadata/metadata38.json',\n",
       " '../Data/json_metadata/metadata16.json',\n",
       " '../Data/json_metadata/metadata33.json',\n",
       " '../Data/json_metadata/metadata10.json',\n",
       " '../Data/json_metadata/metadata28.json',\n",
       " '../Data/json_metadata/metadata29.json',\n",
       " '../Data/json_metadata/metadata46.json',\n",
       " '../Data/json_metadata/metadata14.json',\n",
       " '../Data/json_metadata/metadata18.json',\n",
       " '../Data/json_metadata/metadata5.json',\n",
       " '../Data/json_metadata/metadata25.json']"
      ]
     },
     "execution_count": 9,
     "metadata": {},
     "output_type": "execute_result"
    }
   ],
   "source": [
    "json_files"
   ]
  },
  {
   "cell_type": "code",
   "execution_count": 10,
   "id": "bd7db97c",
   "metadata": {
    "ExecuteTime": {
     "end_time": "2022-03-02T08:30:17.781153Z",
     "start_time": "2022-03-02T08:30:17.056846Z"
    }
   },
   "outputs": [],
   "source": [
    "json_metadata = pd.concat([pd.read_json(json_file, orient = 'index') for json_file in json_files])"
   ]
  },
  {
   "cell_type": "code",
   "execution_count": 11,
   "id": "0961e01c",
   "metadata": {
    "ExecuteTime": {
     "end_time": "2022-03-02T08:30:19.004378Z",
     "start_time": "2022-03-02T08:30:18.956782Z"
    },
    "scrolled": true
   },
   "outputs": [],
   "source": [
    "json_metadata = json_metadata.reset_index()"
   ]
  },
  {
   "cell_type": "code",
   "execution_count": 12,
   "id": "eac56429",
   "metadata": {
    "ExecuteTime": {
     "end_time": "2022-03-02T08:30:19.606368Z",
     "start_time": "2022-03-02T08:30:19.475808Z"
    }
   },
   "outputs": [],
   "source": [
    "json_metadata = json_metadata.rename(columns={'index': 'videoname'})"
   ]
  },
  {
   "cell_type": "markdown",
   "id": "b5374471",
   "metadata": {},
   "source": [
    "## Explo"
   ]
  },
  {
   "cell_type": "code",
   "execution_count": 13,
   "id": "c6f286fe",
   "metadata": {
    "ExecuteTime": {
     "end_time": "2022-03-02T08:30:21.343147Z",
     "start_time": "2022-03-02T08:30:21.338673Z"
    }
   },
   "outputs": [],
   "source": [
    "full_df = json_metadata"
   ]
  },
  {
   "cell_type": "code",
   "execution_count": 14,
   "id": "c9ebd3a6",
   "metadata": {
    "ExecuteTime": {
     "end_time": "2022-03-02T08:30:22.386458Z",
     "start_time": "2022-03-02T08:30:22.279119Z"
    }
   },
   "outputs": [
    {
     "name": "stdout",
     "output_type": "stream",
     "text": [
      "<class 'pandas.core.frame.DataFrame'>\n",
      "RangeIndex: 119154 entries, 0 to 119153\n",
      "Data columns (total 4 columns):\n",
      " #   Column     Non-Null Count   Dtype \n",
      "---  ------     --------------   ----- \n",
      " 0   videoname  119154 non-null  object\n",
      " 1   label      119154 non-null  object\n",
      " 2   split      119154 non-null  object\n",
      " 3   original   100000 non-null  object\n",
      "dtypes: object(4)\n",
      "memory usage: 3.6+ MB\n"
     ]
    }
   ],
   "source": [
    "full_df.info()"
   ]
  },
  {
   "cell_type": "markdown",
   "id": "0a1c1eac",
   "metadata": {},
   "source": [
    "Il y a 116020  Vidéos en tout"
   ]
  },
  {
   "cell_type": "code",
   "execution_count": 15,
   "id": "5dd29b59",
   "metadata": {
    "ExecuteTime": {
     "end_time": "2022-03-02T08:30:23.654103Z",
     "start_time": "2022-03-02T08:30:23.647695Z"
    }
   },
   "outputs": [
    {
     "data": {
      "text/plain": [
       "119154"
      ]
     },
     "execution_count": 15,
     "metadata": {},
     "output_type": "execute_result"
    }
   ],
   "source": [
    "len(full_df)"
   ]
  },
  {
   "cell_type": "markdown",
   "id": "23d1ff5e",
   "metadata": {},
   "source": [
    "On a ~97K vidéo fakes et ~18k vidéos réelles"
   ]
  },
  {
   "cell_type": "code",
   "execution_count": 16,
   "id": "b9f61518",
   "metadata": {
    "ExecuteTime": {
     "end_time": "2022-03-02T08:30:26.683837Z",
     "start_time": "2022-03-02T08:30:26.575130Z"
    }
   },
   "outputs": [
    {
     "data": {
      "text/plain": [
       "label\n",
       "FAKE    100000\n",
       "REAL     19154\n",
       "Name: videoname, dtype: int64"
      ]
     },
     "execution_count": 16,
     "metadata": {},
     "output_type": "execute_result"
    }
   ],
   "source": [
    "full_df.groupby('label').count()['videoname']"
   ]
  },
  {
   "cell_type": "markdown",
   "id": "3a394f71",
   "metadata": {},
   "source": [
    "Je crée 2 DF, un pour les réelles, un pour les fakes"
   ]
  },
  {
   "cell_type": "code",
   "execution_count": 17,
   "id": "58d1c560",
   "metadata": {
    "ExecuteTime": {
     "end_time": "2022-03-02T08:30:29.714563Z",
     "start_time": "2022-03-02T08:30:29.672287Z"
    }
   },
   "outputs": [],
   "source": [
    "fakes_df = full_df[full_df['label'] == 'FAKE']"
   ]
  },
  {
   "cell_type": "code",
   "execution_count": 18,
   "id": "284f7614",
   "metadata": {
    "ExecuteTime": {
     "end_time": "2022-03-02T08:30:30.499587Z",
     "start_time": "2022-03-02T08:30:30.471458Z"
    }
   },
   "outputs": [],
   "source": [
    "real_df = full_df[full_df['label'] == 'REAL']"
   ]
  },
  {
   "cell_type": "markdown",
   "id": "b206fdce",
   "metadata": {},
   "source": [
    "On a 18639 Vidéos \"Réelles\" :"
   ]
  },
  {
   "cell_type": "code",
   "execution_count": 19,
   "id": "bd293e9e",
   "metadata": {
    "ExecuteTime": {
     "end_time": "2022-03-02T08:30:31.518680Z",
     "start_time": "2022-03-02T08:30:31.511807Z"
    }
   },
   "outputs": [
    {
     "data": {
      "text/plain": [
       "19154"
      ]
     },
     "execution_count": 19,
     "metadata": {},
     "output_type": "execute_result"
    }
   ],
   "source": [
    "len(real_df)"
   ]
  },
  {
   "cell_type": "markdown",
   "id": "7a3825af",
   "metadata": {},
   "source": [
    "Il n'y a pas de doublons parmis les labels des vidéos Originales : "
   ]
  },
  {
   "cell_type": "code",
   "execution_count": 20,
   "id": "9a2e7a51",
   "metadata": {
    "ExecuteTime": {
     "end_time": "2022-03-02T08:30:32.491688Z",
     "start_time": "2022-03-02T08:30:32.479021Z"
    }
   },
   "outputs": [
    {
     "data": {
      "text/plain": [
       "True"
      ]
     },
     "execution_count": 20,
     "metadata": {},
     "output_type": "execute_result"
    }
   ],
   "source": [
    "len(real_df['videoname'].drop_duplicates()) == len(real_df['videoname'])"
   ]
  },
  {
   "cell_type": "markdown",
   "id": "eefd84f2",
   "metadata": {
    "ExecuteTime": {
     "end_time": "2022-03-01T08:51:46.259245Z",
     "start_time": "2022-03-01T08:51:46.251847Z"
    }
   },
   "source": [
    "Ni parmis les Fakes"
   ]
  },
  {
   "cell_type": "code",
   "execution_count": 21,
   "id": "f1ef8ac3",
   "metadata": {
    "ExecuteTime": {
     "end_time": "2022-03-02T08:30:33.435759Z",
     "start_time": "2022-03-02T08:30:33.396628Z"
    }
   },
   "outputs": [
    {
     "data": {
      "text/plain": [
       "True"
      ]
     },
     "execution_count": 21,
     "metadata": {},
     "output_type": "execute_result"
    }
   ],
   "source": [
    "len(fakes_df['videoname'].drop_duplicates()) == len(fakes_df['videoname'])"
   ]
  },
  {
   "cell_type": "markdown",
   "id": "1146b7fb",
   "metadata": {},
   "source": [
    "Certaines vidéos 'réelles' ont permis la génération de plusieurs dizaines de fakes. La majorité n'en ont généré qu'1 ou 2"
   ]
  },
  {
   "cell_type": "code",
   "execution_count": 22,
   "id": "084790f4",
   "metadata": {
    "ExecuteTime": {
     "end_time": "2022-03-02T08:30:35.893596Z",
     "start_time": "2022-03-02T08:30:34.324814Z"
    }
   },
   "outputs": [
    {
     "data": {
      "text/plain": [
       "array([[<AxesSubplot:title={'center':'label'}>]], dtype=object)"
      ]
     },
     "execution_count": 22,
     "metadata": {},
     "output_type": "execute_result"
    },
    {
     "data": {
      "image/png": "[encoded data removed]",
      "text/plain": [
       "<Figure size 432x288 with 1 Axes>"
      ]
     },
     "metadata": {
      "needs_background": "light"
     },
     "output_type": "display_data"
    }
   ],
   "source": [
    "fakes_df.groupby('original').count()[['label']].hist()"
   ]
  },
  {
   "cell_type": "markdown",
   "id": "bfc40a64",
   "metadata": {
    "ExecuteTime": {
     "end_time": "2022-03-01T09:21:45.460665Z",
     "start_time": "2022-03-01T09:21:45.452662Z"
    }
   },
   "source": [
    "Je génère une liste de vidéo deepfake avec une seule vidéo 'originale' : Dedup_fake_df_id\n",
    "Le problème, on se rend compte que certaines vidéos \"fakes\" n'ont pas d'équivalent en \"réelle\""
   ]
  },
  {
   "cell_type": "code",
   "execution_count": 23,
   "id": "eb5fdb83",
   "metadata": {
    "ExecuteTime": {
     "end_time": "2022-03-02T08:30:36.144701Z",
     "start_time": "2022-03-02T08:30:35.979080Z"
    }
   },
   "outputs": [
    {
     "data": {
      "text/html": [
       "<div>\n",
       "<style scoped>\n",
       "    .dataframe tbody tr th:only-of-type {\n",
       "        vertical-align: middle;\n",
       "    }\n",
       "\n",
       "    .dataframe tbody tr th {\n",
       "        vertical-align: top;\n",
       "    }\n",
       "\n",
       "    .dataframe thead th {\n",
       "        text-align: right;\n",
       "    }\n",
       "</style>\n",
       "<table border=\"1\" class=\"dataframe\">\n",
       "  <thead>\n",
       "    <tr style=\"text-align: right;\">\n",
       "      <th></th>\n",
       "      <th>original</th>\n",
       "    </tr>\n",
       "  </thead>\n",
       "  <tbody>\n",
       "    <tr>\n",
       "      <th>90154</th>\n",
       "      <td>ugusefbydg.mp4</td>\n",
       "    </tr>\n",
       "    <tr>\n",
       "      <th>95501</th>\n",
       "      <td>veujgyyigk.mp4</td>\n",
       "    </tr>\n",
       "    <tr>\n",
       "      <th>23519</th>\n",
       "      <td>bxrqolkezc.mp4</td>\n",
       "    </tr>\n",
       "    <tr>\n",
       "      <th>91292</th>\n",
       "      <td>tvdlpqwnzl.mp4</td>\n",
       "    </tr>\n",
       "    <tr>\n",
       "      <th>110758</th>\n",
       "      <td>hzwegdkpck.mp4</td>\n",
       "    </tr>\n",
       "    <tr>\n",
       "      <th>...</th>\n",
       "      <td>...</td>\n",
       "    </tr>\n",
       "    <tr>\n",
       "      <th>84625</th>\n",
       "      <td>cikgroaccw.mp4</td>\n",
       "    </tr>\n",
       "    <tr>\n",
       "      <th>54093</th>\n",
       "      <td>oaauoagcrb.mp4</td>\n",
       "    </tr>\n",
       "    <tr>\n",
       "      <th>22904</th>\n",
       "      <td>glzwsxpwuh.mp4</td>\n",
       "    </tr>\n",
       "    <tr>\n",
       "      <th>104029</th>\n",
       "      <td>uxbeupxqqr.mp4</td>\n",
       "    </tr>\n",
       "    <tr>\n",
       "      <th>76964</th>\n",
       "      <td>ihnpipyyqj.mp4</td>\n",
       "    </tr>\n",
       "  </tbody>\n",
       "</table>\n",
       "<p>19154 rows × 1 columns</p>\n",
       "</div>"
      ],
      "text/plain": [
       "              original\n",
       "90154   ugusefbydg.mp4\n",
       "95501   veujgyyigk.mp4\n",
       "23519   bxrqolkezc.mp4\n",
       "91292   tvdlpqwnzl.mp4\n",
       "110758  hzwegdkpck.mp4\n",
       "...                ...\n",
       "84625   cikgroaccw.mp4\n",
       "54093   oaauoagcrb.mp4\n",
       "22904   glzwsxpwuh.mp4\n",
       "104029  uxbeupxqqr.mp4\n",
       "76964   ihnpipyyqj.mp4\n",
       "\n",
       "[19154 rows x 1 columns]"
      ]
     },
     "execution_count": 23,
     "metadata": {},
     "output_type": "execute_result"
    }
   ],
   "source": [
    "dedup_fakes_df_id= fakes_df.sample(frac = 1, random_state=42)[['original']].drop_duplicates()\n",
    "dedup_fakes_df_id"
   ]
  },
  {
   "cell_type": "markdown",
   "id": "5cc51f64",
   "metadata": {},
   "source": [
    "En effet, on a ~18639  vidéos qui ont servi de base aux vidéos 'fake', soit 700 de plus que les vidéos \"réelles\""
   ]
  },
  {
   "cell_type": "code",
   "execution_count": 24,
   "id": "f80ef8b9",
   "metadata": {
    "ExecuteTime": {
     "end_time": "2022-03-02T08:30:39.914222Z",
     "start_time": "2022-03-02T08:30:39.907686Z"
    }
   },
   "outputs": [
    {
     "name": "stdout",
     "output_type": "stream",
     "text": [
      "On a 19154 vidéos REAL\n",
      "On a 19154 vidéos FAKE\n"
     ]
    }
   ],
   "source": [
    "print(f'On a {len(real_df)} vidéos REAL')\n",
    "print(f'On a {len(dedup_fakes_df_id)} vidéos FAKE')"
   ]
  },
  {
   "cell_type": "code",
   "execution_count": 25,
   "id": "69a1af01",
   "metadata": {
    "ExecuteTime": {
     "end_time": "2022-03-02T08:30:40.635751Z",
     "start_time": "2022-03-02T08:30:40.570096Z"
    }
   },
   "outputs": [
    {
     "data": {
      "text/html": [
       "<div>\n",
       "<style scoped>\n",
       "    .dataframe tbody tr th:only-of-type {\n",
       "        vertical-align: middle;\n",
       "    }\n",
       "\n",
       "    .dataframe tbody tr th {\n",
       "        vertical-align: top;\n",
       "    }\n",
       "\n",
       "    .dataframe thead th {\n",
       "        text-align: right;\n",
       "    }\n",
       "</style>\n",
       "<table border=\"1\" class=\"dataframe\">\n",
       "  <thead>\n",
       "    <tr style=\"text-align: right;\">\n",
       "      <th></th>\n",
       "      <th>videoname</th>\n",
       "      <th>label</th>\n",
       "      <th>split</th>\n",
       "      <th>original</th>\n",
       "    </tr>\n",
       "  </thead>\n",
       "  <tbody>\n",
       "    <tr>\n",
       "      <th>25</th>\n",
       "      <td>ujslmfluwe.mp4</td>\n",
       "      <td>FAKE</td>\n",
       "      <td>train</td>\n",
       "      <td>oznyyhvzxk.mp4</td>\n",
       "    </tr>\n",
       "    <tr>\n",
       "      <th>92</th>\n",
       "      <td>httbasaevn.mp4</td>\n",
       "      <td>FAKE</td>\n",
       "      <td>train</td>\n",
       "      <td>bvpeerislp.mp4</td>\n",
       "    </tr>\n",
       "    <tr>\n",
       "      <th>104</th>\n",
       "      <td>bmsoarcvmn.mp4</td>\n",
       "      <td>FAKE</td>\n",
       "      <td>train</td>\n",
       "      <td>yhylappzid.mp4</td>\n",
       "    </tr>\n",
       "    <tr>\n",
       "      <th>113</th>\n",
       "      <td>vwdveepjhm.mp4</td>\n",
       "      <td>FAKE</td>\n",
       "      <td>train</td>\n",
       "      <td>kwfdyqofzw.mp4</td>\n",
       "    </tr>\n",
       "    <tr>\n",
       "      <th>114</th>\n",
       "      <td>jyrvsifszr.mp4</td>\n",
       "      <td>FAKE</td>\n",
       "      <td>train</td>\n",
       "      <td>blszgmxkvu.mp4</td>\n",
       "    </tr>\n",
       "    <tr>\n",
       "      <th>...</th>\n",
       "      <td>...</td>\n",
       "      <td>...</td>\n",
       "      <td>...</td>\n",
       "      <td>...</td>\n",
       "    </tr>\n",
       "    <tr>\n",
       "      <th>119143</th>\n",
       "      <td>pehfopbcsu.mp4</td>\n",
       "      <td>FAKE</td>\n",
       "      <td>train</td>\n",
       "      <td>vyecastqxh.mp4</td>\n",
       "    </tr>\n",
       "    <tr>\n",
       "      <th>119144</th>\n",
       "      <td>dzffetljax.mp4</td>\n",
       "      <td>FAKE</td>\n",
       "      <td>train</td>\n",
       "      <td>qybjkjeiyd.mp4</td>\n",
       "    </tr>\n",
       "    <tr>\n",
       "      <th>119145</th>\n",
       "      <td>gepynjpkym.mp4</td>\n",
       "      <td>FAKE</td>\n",
       "      <td>train</td>\n",
       "      <td>nusbqbtqvi.mp4</td>\n",
       "    </tr>\n",
       "    <tr>\n",
       "      <th>119147</th>\n",
       "      <td>dnwpesywuh.mp4</td>\n",
       "      <td>FAKE</td>\n",
       "      <td>train</td>\n",
       "      <td>wswnlvujup.mp4</td>\n",
       "    </tr>\n",
       "    <tr>\n",
       "      <th>119150</th>\n",
       "      <td>crrcreusag.mp4</td>\n",
       "      <td>FAKE</td>\n",
       "      <td>train</td>\n",
       "      <td>dtkvzwnvmm.mp4</td>\n",
       "    </tr>\n",
       "  </tbody>\n",
       "</table>\n",
       "<p>19154 rows × 4 columns</p>\n",
       "</div>"
      ],
      "text/plain": [
       "             videoname label  split        original\n",
       "25      ujslmfluwe.mp4  FAKE  train  oznyyhvzxk.mp4\n",
       "92      httbasaevn.mp4  FAKE  train  bvpeerislp.mp4\n",
       "104     bmsoarcvmn.mp4  FAKE  train  yhylappzid.mp4\n",
       "113     vwdveepjhm.mp4  FAKE  train  kwfdyqofzw.mp4\n",
       "114     jyrvsifszr.mp4  FAKE  train  blszgmxkvu.mp4\n",
       "...                ...   ...    ...             ...\n",
       "119143  pehfopbcsu.mp4  FAKE  train  vyecastqxh.mp4\n",
       "119144  dzffetljax.mp4  FAKE  train  qybjkjeiyd.mp4\n",
       "119145  gepynjpkym.mp4  FAKE  train  nusbqbtqvi.mp4\n",
       "119147  dnwpesywuh.mp4  FAKE  train  wswnlvujup.mp4\n",
       "119150  crrcreusag.mp4  FAKE  train  dtkvzwnvmm.mp4\n",
       "\n",
       "[19154 rows x 4 columns]"
      ]
     },
     "execution_count": 25,
     "metadata": {},
     "output_type": "execute_result"
    }
   ],
   "source": [
    "dedup_fakes_df = fakes_df.merge(dedup_fakes_df_id, how = 'inner', left_index=True, right_index=True).drop(columns = 'original_y').rename(columns= {'original_x': 'original'})\n",
    "dedup_fakes_df"
   ]
  },
  {
   "cell_type": "markdown",
   "id": "eb6c76fb",
   "metadata": {},
   "source": [
    "Au total, 18639 vidéos \"réelles\" ont servi de base à la création de deepfake"
   ]
  },
  {
   "cell_type": "code",
   "execution_count": 26,
   "id": "6fcd098e",
   "metadata": {
    "ExecuteTime": {
     "end_time": "2022-03-02T08:30:41.871039Z",
     "start_time": "2022-03-02T08:30:41.863248Z"
    }
   },
   "outputs": [],
   "source": [
    "dedup_fakes_df['fake'] = dedup_fakes_df['videoname']\n",
    "dedup_fakes_df['real'] = dedup_fakes_df['original']"
   ]
  },
  {
   "cell_type": "code",
   "execution_count": 27,
   "id": "2648be04",
   "metadata": {
    "ExecuteTime": {
     "end_time": "2022-03-02T08:30:42.549445Z",
     "start_time": "2022-03-02T08:30:42.520461Z"
    }
   },
   "outputs": [
    {
     "data": {
      "text/html": [
       "<div>\n",
       "<style scoped>\n",
       "    .dataframe tbody tr th:only-of-type {\n",
       "        vertical-align: middle;\n",
       "    }\n",
       "\n",
       "    .dataframe tbody tr th {\n",
       "        vertical-align: top;\n",
       "    }\n",
       "\n",
       "    .dataframe thead th {\n",
       "        text-align: right;\n",
       "    }\n",
       "</style>\n",
       "<table border=\"1\" class=\"dataframe\">\n",
       "  <thead>\n",
       "    <tr style=\"text-align: right;\">\n",
       "      <th></th>\n",
       "      <th>videoname</th>\n",
       "      <th>label</th>\n",
       "      <th>split</th>\n",
       "      <th>original</th>\n",
       "      <th>fake</th>\n",
       "      <th>real</th>\n",
       "    </tr>\n",
       "  </thead>\n",
       "  <tbody>\n",
       "    <tr>\n",
       "      <th>25</th>\n",
       "      <td>ujslmfluwe.mp4</td>\n",
       "      <td>FAKE</td>\n",
       "      <td>train</td>\n",
       "      <td>oznyyhvzxk.mp4</td>\n",
       "      <td>ujslmfluwe.mp4</td>\n",
       "      <td>oznyyhvzxk.mp4</td>\n",
       "    </tr>\n",
       "    <tr>\n",
       "      <th>92</th>\n",
       "      <td>httbasaevn.mp4</td>\n",
       "      <td>FAKE</td>\n",
       "      <td>train</td>\n",
       "      <td>bvpeerislp.mp4</td>\n",
       "      <td>httbasaevn.mp4</td>\n",
       "      <td>bvpeerislp.mp4</td>\n",
       "    </tr>\n",
       "    <tr>\n",
       "      <th>104</th>\n",
       "      <td>bmsoarcvmn.mp4</td>\n",
       "      <td>FAKE</td>\n",
       "      <td>train</td>\n",
       "      <td>yhylappzid.mp4</td>\n",
       "      <td>bmsoarcvmn.mp4</td>\n",
       "      <td>yhylappzid.mp4</td>\n",
       "    </tr>\n",
       "    <tr>\n",
       "      <th>113</th>\n",
       "      <td>vwdveepjhm.mp4</td>\n",
       "      <td>FAKE</td>\n",
       "      <td>train</td>\n",
       "      <td>kwfdyqofzw.mp4</td>\n",
       "      <td>vwdveepjhm.mp4</td>\n",
       "      <td>kwfdyqofzw.mp4</td>\n",
       "    </tr>\n",
       "    <tr>\n",
       "      <th>114</th>\n",
       "      <td>jyrvsifszr.mp4</td>\n",
       "      <td>FAKE</td>\n",
       "      <td>train</td>\n",
       "      <td>blszgmxkvu.mp4</td>\n",
       "      <td>jyrvsifszr.mp4</td>\n",
       "      <td>blszgmxkvu.mp4</td>\n",
       "    </tr>\n",
       "    <tr>\n",
       "      <th>...</th>\n",
       "      <td>...</td>\n",
       "      <td>...</td>\n",
       "      <td>...</td>\n",
       "      <td>...</td>\n",
       "      <td>...</td>\n",
       "      <td>...</td>\n",
       "    </tr>\n",
       "    <tr>\n",
       "      <th>119143</th>\n",
       "      <td>pehfopbcsu.mp4</td>\n",
       "      <td>FAKE</td>\n",
       "      <td>train</td>\n",
       "      <td>vyecastqxh.mp4</td>\n",
       "      <td>pehfopbcsu.mp4</td>\n",
       "      <td>vyecastqxh.mp4</td>\n",
       "    </tr>\n",
       "    <tr>\n",
       "      <th>119144</th>\n",
       "      <td>dzffetljax.mp4</td>\n",
       "      <td>FAKE</td>\n",
       "      <td>train</td>\n",
       "      <td>qybjkjeiyd.mp4</td>\n",
       "      <td>dzffetljax.mp4</td>\n",
       "      <td>qybjkjeiyd.mp4</td>\n",
       "    </tr>\n",
       "    <tr>\n",
       "      <th>119145</th>\n",
       "      <td>gepynjpkym.mp4</td>\n",
       "      <td>FAKE</td>\n",
       "      <td>train</td>\n",
       "      <td>nusbqbtqvi.mp4</td>\n",
       "      <td>gepynjpkym.mp4</td>\n",
       "      <td>nusbqbtqvi.mp4</td>\n",
       "    </tr>\n",
       "    <tr>\n",
       "      <th>119147</th>\n",
       "      <td>dnwpesywuh.mp4</td>\n",
       "      <td>FAKE</td>\n",
       "      <td>train</td>\n",
       "      <td>wswnlvujup.mp4</td>\n",
       "      <td>dnwpesywuh.mp4</td>\n",
       "      <td>wswnlvujup.mp4</td>\n",
       "    </tr>\n",
       "    <tr>\n",
       "      <th>119150</th>\n",
       "      <td>crrcreusag.mp4</td>\n",
       "      <td>FAKE</td>\n",
       "      <td>train</td>\n",
       "      <td>dtkvzwnvmm.mp4</td>\n",
       "      <td>crrcreusag.mp4</td>\n",
       "      <td>dtkvzwnvmm.mp4</td>\n",
       "    </tr>\n",
       "  </tbody>\n",
       "</table>\n",
       "<p>19154 rows × 6 columns</p>\n",
       "</div>"
      ],
      "text/plain": [
       "             videoname label  split        original            fake  \\\n",
       "25      ujslmfluwe.mp4  FAKE  train  oznyyhvzxk.mp4  ujslmfluwe.mp4   \n",
       "92      httbasaevn.mp4  FAKE  train  bvpeerislp.mp4  httbasaevn.mp4   \n",
       "104     bmsoarcvmn.mp4  FAKE  train  yhylappzid.mp4  bmsoarcvmn.mp4   \n",
       "113     vwdveepjhm.mp4  FAKE  train  kwfdyqofzw.mp4  vwdveepjhm.mp4   \n",
       "114     jyrvsifszr.mp4  FAKE  train  blszgmxkvu.mp4  jyrvsifszr.mp4   \n",
       "...                ...   ...    ...             ...             ...   \n",
       "119143  pehfopbcsu.mp4  FAKE  train  vyecastqxh.mp4  pehfopbcsu.mp4   \n",
       "119144  dzffetljax.mp4  FAKE  train  qybjkjeiyd.mp4  dzffetljax.mp4   \n",
       "119145  gepynjpkym.mp4  FAKE  train  nusbqbtqvi.mp4  gepynjpkym.mp4   \n",
       "119147  dnwpesywuh.mp4  FAKE  train  wswnlvujup.mp4  dnwpesywuh.mp4   \n",
       "119150  crrcreusag.mp4  FAKE  train  dtkvzwnvmm.mp4  crrcreusag.mp4   \n",
       "\n",
       "                  real  \n",
       "25      oznyyhvzxk.mp4  \n",
       "92      bvpeerislp.mp4  \n",
       "104     yhylappzid.mp4  \n",
       "113     kwfdyqofzw.mp4  \n",
       "114     blszgmxkvu.mp4  \n",
       "...                ...  \n",
       "119143  vyecastqxh.mp4  \n",
       "119144  qybjkjeiyd.mp4  \n",
       "119145  nusbqbtqvi.mp4  \n",
       "119147  wswnlvujup.mp4  \n",
       "119150  dtkvzwnvmm.mp4  \n",
       "\n",
       "[19154 rows x 6 columns]"
      ]
     },
     "execution_count": 27,
     "metadata": {},
     "output_type": "execute_result"
    }
   ],
   "source": [
    "dedup_fakes_df"
   ]
  },
  {
   "cell_type": "code",
   "execution_count": 28,
   "id": "115a2706",
   "metadata": {
    "ExecuteTime": {
     "end_time": "2022-03-02T08:30:43.509742Z",
     "start_time": "2022-03-02T08:30:43.404752Z"
    }
   },
   "outputs": [
    {
     "data": {
      "text/html": [
       "<div>\n",
       "<style scoped>\n",
       "    .dataframe tbody tr th:only-of-type {\n",
       "        vertical-align: middle;\n",
       "    }\n",
       "\n",
       "    .dataframe tbody tr th {\n",
       "        vertical-align: top;\n",
       "    }\n",
       "\n",
       "    .dataframe thead th {\n",
       "        text-align: right;\n",
       "    }\n",
       "</style>\n",
       "<table border=\"1\" class=\"dataframe\">\n",
       "  <thead>\n",
       "    <tr style=\"text-align: right;\">\n",
       "      <th></th>\n",
       "      <th>fake</th>\n",
       "      <th>real</th>\n",
       "    </tr>\n",
       "  </thead>\n",
       "  <tbody>\n",
       "    <tr>\n",
       "      <th>0</th>\n",
       "      <td>ujslmfluwe.mp4</td>\n",
       "      <td>oznyyhvzxk.mp4</td>\n",
       "    </tr>\n",
       "    <tr>\n",
       "      <th>1</th>\n",
       "      <td>httbasaevn.mp4</td>\n",
       "      <td>bvpeerislp.mp4</td>\n",
       "    </tr>\n",
       "    <tr>\n",
       "      <th>2</th>\n",
       "      <td>bmsoarcvmn.mp4</td>\n",
       "      <td>yhylappzid.mp4</td>\n",
       "    </tr>\n",
       "    <tr>\n",
       "      <th>3</th>\n",
       "      <td>vwdveepjhm.mp4</td>\n",
       "      <td>kwfdyqofzw.mp4</td>\n",
       "    </tr>\n",
       "    <tr>\n",
       "      <th>4</th>\n",
       "      <td>jyrvsifszr.mp4</td>\n",
       "      <td>blszgmxkvu.mp4</td>\n",
       "    </tr>\n",
       "    <tr>\n",
       "      <th>...</th>\n",
       "      <td>...</td>\n",
       "      <td>...</td>\n",
       "    </tr>\n",
       "    <tr>\n",
       "      <th>19149</th>\n",
       "      <td>pehfopbcsu.mp4</td>\n",
       "      <td>vyecastqxh.mp4</td>\n",
       "    </tr>\n",
       "    <tr>\n",
       "      <th>19150</th>\n",
       "      <td>dzffetljax.mp4</td>\n",
       "      <td>qybjkjeiyd.mp4</td>\n",
       "    </tr>\n",
       "    <tr>\n",
       "      <th>19151</th>\n",
       "      <td>gepynjpkym.mp4</td>\n",
       "      <td>nusbqbtqvi.mp4</td>\n",
       "    </tr>\n",
       "    <tr>\n",
       "      <th>19152</th>\n",
       "      <td>dnwpesywuh.mp4</td>\n",
       "      <td>wswnlvujup.mp4</td>\n",
       "    </tr>\n",
       "    <tr>\n",
       "      <th>19153</th>\n",
       "      <td>crrcreusag.mp4</td>\n",
       "      <td>dtkvzwnvmm.mp4</td>\n",
       "    </tr>\n",
       "  </tbody>\n",
       "</table>\n",
       "<p>19154 rows × 2 columns</p>\n",
       "</div>"
      ],
      "text/plain": [
       "                 fake            real\n",
       "0      ujslmfluwe.mp4  oznyyhvzxk.mp4\n",
       "1      httbasaevn.mp4  bvpeerislp.mp4\n",
       "2      bmsoarcvmn.mp4  yhylappzid.mp4\n",
       "3      vwdveepjhm.mp4  kwfdyqofzw.mp4\n",
       "4      jyrvsifszr.mp4  blszgmxkvu.mp4\n",
       "...               ...             ...\n",
       "19149  pehfopbcsu.mp4  vyecastqxh.mp4\n",
       "19150  dzffetljax.mp4  qybjkjeiyd.mp4\n",
       "19151  gepynjpkym.mp4  nusbqbtqvi.mp4\n",
       "19152  dnwpesywuh.mp4  wswnlvujup.mp4\n",
       "19153  crrcreusag.mp4  dtkvzwnvmm.mp4\n",
       "\n",
       "[19154 rows x 2 columns]"
      ]
     },
     "execution_count": 28,
     "metadata": {},
     "output_type": "execute_result"
    }
   ],
   "source": [
    "fake_and_real_df = dedup_fakes_df[['fake', 'real']].merge(real_df.drop(columns = 'original'), left_on='real', right_on = 'videoname')[['fake', 'real']]\n",
    "fake_and_real_df"
   ]
  },
  {
   "cell_type": "code",
   "execution_count": 29,
   "id": "82c3deac",
   "metadata": {
    "ExecuteTime": {
     "end_time": "2022-03-02T08:30:44.441969Z",
     "start_time": "2022-03-02T08:30:44.435370Z"
    }
   },
   "outputs": [
    {
     "name": "stdout",
     "output_type": "stream",
     "text": [
      "On a 19154 vidéos REAL qui ont permis de faire au-moins un deepfake\n"
     ]
    }
   ],
   "source": [
    "print(f'On a {len(fake_and_real_df)} vidéos REAL qui ont permis de faire au-moins un deepfake')"
   ]
  },
  {
   "cell_type": "code",
   "execution_count": 30,
   "id": "64a9bc75",
   "metadata": {
    "ExecuteTime": {
     "end_time": "2022-03-02T08:30:45.145242Z",
     "start_time": "2022-03-02T08:30:45.117667Z"
    }
   },
   "outputs": [
    {
     "data": {
      "text/html": [
       "<div>\n",
       "<style scoped>\n",
       "    .dataframe tbody tr th:only-of-type {\n",
       "        vertical-align: middle;\n",
       "    }\n",
       "\n",
       "    .dataframe tbody tr th {\n",
       "        vertical-align: top;\n",
       "    }\n",
       "\n",
       "    .dataframe thead th {\n",
       "        text-align: right;\n",
       "    }\n",
       "</style>\n",
       "<table border=\"1\" class=\"dataframe\">\n",
       "  <thead>\n",
       "    <tr style=\"text-align: right;\">\n",
       "      <th></th>\n",
       "      <th>fake or real</th>\n",
       "      <th>video_id</th>\n",
       "    </tr>\n",
       "  </thead>\n",
       "  <tbody>\n",
       "    <tr>\n",
       "      <th>0</th>\n",
       "      <td>fake</td>\n",
       "      <td>ujslmfluwe.mp4</td>\n",
       "    </tr>\n",
       "    <tr>\n",
       "      <th>1</th>\n",
       "      <td>fake</td>\n",
       "      <td>httbasaevn.mp4</td>\n",
       "    </tr>\n",
       "    <tr>\n",
       "      <th>2</th>\n",
       "      <td>fake</td>\n",
       "      <td>bmsoarcvmn.mp4</td>\n",
       "    </tr>\n",
       "    <tr>\n",
       "      <th>3</th>\n",
       "      <td>fake</td>\n",
       "      <td>vwdveepjhm.mp4</td>\n",
       "    </tr>\n",
       "    <tr>\n",
       "      <th>4</th>\n",
       "      <td>fake</td>\n",
       "      <td>jyrvsifszr.mp4</td>\n",
       "    </tr>\n",
       "    <tr>\n",
       "      <th>...</th>\n",
       "      <td>...</td>\n",
       "      <td>...</td>\n",
       "    </tr>\n",
       "    <tr>\n",
       "      <th>38303</th>\n",
       "      <td>real</td>\n",
       "      <td>vyecastqxh.mp4</td>\n",
       "    </tr>\n",
       "    <tr>\n",
       "      <th>38304</th>\n",
       "      <td>real</td>\n",
       "      <td>qybjkjeiyd.mp4</td>\n",
       "    </tr>\n",
       "    <tr>\n",
       "      <th>38305</th>\n",
       "      <td>real</td>\n",
       "      <td>nusbqbtqvi.mp4</td>\n",
       "    </tr>\n",
       "    <tr>\n",
       "      <th>38306</th>\n",
       "      <td>real</td>\n",
       "      <td>wswnlvujup.mp4</td>\n",
       "    </tr>\n",
       "    <tr>\n",
       "      <th>38307</th>\n",
       "      <td>real</td>\n",
       "      <td>dtkvzwnvmm.mp4</td>\n",
       "    </tr>\n",
       "  </tbody>\n",
       "</table>\n",
       "<p>38308 rows × 2 columns</p>\n",
       "</div>"
      ],
      "text/plain": [
       "      fake or real        video_id\n",
       "0             fake  ujslmfluwe.mp4\n",
       "1             fake  httbasaevn.mp4\n",
       "2             fake  bmsoarcvmn.mp4\n",
       "3             fake  vwdveepjhm.mp4\n",
       "4             fake  jyrvsifszr.mp4\n",
       "...            ...             ...\n",
       "38303         real  vyecastqxh.mp4\n",
       "38304         real  qybjkjeiyd.mp4\n",
       "38305         real  nusbqbtqvi.mp4\n",
       "38306         real  wswnlvujup.mp4\n",
       "38307         real  dtkvzwnvmm.mp4\n",
       "\n",
       "[38308 rows x 2 columns]"
      ]
     },
     "execution_count": 30,
     "metadata": {},
     "output_type": "execute_result"
    }
   ],
   "source": [
    "list_of_videos_to_select = fake_and_real_df.melt()\n",
    "list_of_videos_to_select = list_of_videos_to_select.rename(columns={'variable' : 'fake or real', 'value' : 'video_id'})\n",
    "list_of_videos_to_select"
   ]
  },
  {
   "cell_type": "code",
   "execution_count": 31,
   "id": "78781dc5",
   "metadata": {
    "ExecuteTime": {
     "end_time": "2022-03-02T08:30:45.629305Z",
     "start_time": "2022-03-02T08:30:45.624055Z"
    }
   },
   "outputs": [
    {
     "name": "stdout",
     "output_type": "stream",
     "text": [
      "On a 38308 vidéos en tout\n"
     ]
    }
   ],
   "source": [
    "print(f'On a {len(list_of_videos_to_select)} vidéos en tout')"
   ]
  },
  {
   "cell_type": "code",
   "execution_count": 32,
   "id": "80868311",
   "metadata": {
    "ExecuteTime": {
     "end_time": "2022-03-02T08:30:46.333044Z",
     "start_time": "2022-03-02T08:30:46.217416Z"
    }
   },
   "outputs": [],
   "source": [
    "list_of_videos_to_select.to_csv('list_of_videos_to_select.csv', index=False)"
   ]
  },
  {
   "cell_type": "markdown",
   "id": "6238d678",
   "metadata": {
    "ExecuteTime": {
     "end_time": "2022-03-01T09:34:37.063725Z",
     "start_time": "2022-03-01T09:34:37.059020Z"
    }
   },
   "source": [
    "## Je checke mon boulot"
   ]
  },
  {
   "cell_type": "code",
   "execution_count": 33,
   "id": "264f9db1",
   "metadata": {
    "ExecuteTime": {
     "end_time": "2022-03-02T08:30:48.284222Z",
     "start_time": "2022-03-02T08:30:48.234953Z"
    }
   },
   "outputs": [],
   "source": [
    "check_df = pd.read_csv('list_of_videos_to_select.csv')"
   ]
  },
  {
   "cell_type": "code",
   "execution_count": 34,
   "id": "7e47617d",
   "metadata": {
    "ExecuteTime": {
     "end_time": "2022-03-02T08:30:48.981752Z",
     "start_time": "2022-03-02T08:30:48.969914Z"
    }
   },
   "outputs": [
    {
     "data": {
      "text/html": [
       "<div>\n",
       "<style scoped>\n",
       "    .dataframe tbody tr th:only-of-type {\n",
       "        vertical-align: middle;\n",
       "    }\n",
       "\n",
       "    .dataframe tbody tr th {\n",
       "        vertical-align: top;\n",
       "    }\n",
       "\n",
       "    .dataframe thead th {\n",
       "        text-align: right;\n",
       "    }\n",
       "</style>\n",
       "<table border=\"1\" class=\"dataframe\">\n",
       "  <thead>\n",
       "    <tr style=\"text-align: right;\">\n",
       "      <th></th>\n",
       "      <th>fake or real</th>\n",
       "      <th>video_id</th>\n",
       "    </tr>\n",
       "  </thead>\n",
       "  <tbody>\n",
       "    <tr>\n",
       "      <th>0</th>\n",
       "      <td>fake</td>\n",
       "      <td>ujslmfluwe.mp4</td>\n",
       "    </tr>\n",
       "    <tr>\n",
       "      <th>1</th>\n",
       "      <td>fake</td>\n",
       "      <td>httbasaevn.mp4</td>\n",
       "    </tr>\n",
       "    <tr>\n",
       "      <th>2</th>\n",
       "      <td>fake</td>\n",
       "      <td>bmsoarcvmn.mp4</td>\n",
       "    </tr>\n",
       "    <tr>\n",
       "      <th>3</th>\n",
       "      <td>fake</td>\n",
       "      <td>vwdveepjhm.mp4</td>\n",
       "    </tr>\n",
       "    <tr>\n",
       "      <th>4</th>\n",
       "      <td>fake</td>\n",
       "      <td>jyrvsifszr.mp4</td>\n",
       "    </tr>\n",
       "  </tbody>\n",
       "</table>\n",
       "</div>"
      ],
      "text/plain": [
       "  fake or real        video_id\n",
       "0         fake  ujslmfluwe.mp4\n",
       "1         fake  httbasaevn.mp4\n",
       "2         fake  bmsoarcvmn.mp4\n",
       "3         fake  vwdveepjhm.mp4\n",
       "4         fake  jyrvsifszr.mp4"
      ]
     },
     "execution_count": 34,
     "metadata": {},
     "output_type": "execute_result"
    }
   ],
   "source": [
    "check_df.head()"
   ]
  },
  {
   "cell_type": "markdown",
   "id": "d633246a",
   "metadata": {},
   "source": [
    "On a bien autant de fake que de real"
   ]
  },
  {
   "cell_type": "code",
   "execution_count": 35,
   "id": "eb28b1f2",
   "metadata": {
    "ExecuteTime": {
     "end_time": "2022-03-02T08:30:50.516868Z",
     "start_time": "2022-03-02T08:30:50.490149Z"
    }
   },
   "outputs": [
    {
     "data": {
      "text/html": [
       "<div>\n",
       "<style scoped>\n",
       "    .dataframe tbody tr th:only-of-type {\n",
       "        vertical-align: middle;\n",
       "    }\n",
       "\n",
       "    .dataframe tbody tr th {\n",
       "        vertical-align: top;\n",
       "    }\n",
       "\n",
       "    .dataframe thead th {\n",
       "        text-align: right;\n",
       "    }\n",
       "</style>\n",
       "<table border=\"1\" class=\"dataframe\">\n",
       "  <thead>\n",
       "    <tr style=\"text-align: right;\">\n",
       "      <th></th>\n",
       "      <th>video_id</th>\n",
       "    </tr>\n",
       "    <tr>\n",
       "      <th>fake or real</th>\n",
       "      <th></th>\n",
       "    </tr>\n",
       "  </thead>\n",
       "  <tbody>\n",
       "    <tr>\n",
       "      <th>fake</th>\n",
       "      <td>19154</td>\n",
       "    </tr>\n",
       "    <tr>\n",
       "      <th>real</th>\n",
       "      <td>19154</td>\n",
       "    </tr>\n",
       "  </tbody>\n",
       "</table>\n",
       "</div>"
      ],
      "text/plain": [
       "              video_id\n",
       "fake or real          \n",
       "fake             19154\n",
       "real             19154"
      ]
     },
     "execution_count": 35,
     "metadata": {},
     "output_type": "execute_result"
    }
   ],
   "source": [
    "check_df.groupby('fake or real').count()"
   ]
  },
  {
   "cell_type": "markdown",
   "id": "db3b290b",
   "metadata": {},
   "source": [
    "Pour cette partie, je crée un df pour m'assurer que les vidéos marquées comme 'real' dans les csv sont bien 'real'\n",
    "je l'appelle check_real_df"
   ]
  },
  {
   "cell_type": "code",
   "execution_count": 36,
   "id": "0bc7a333",
   "metadata": {
    "ExecuteTime": {
     "end_time": "2022-03-02T08:30:51.781618Z",
     "start_time": "2022-03-02T08:30:51.738527Z"
    }
   },
   "outputs": [
    {
     "data": {
      "text/html": [
       "<div>\n",
       "<style scoped>\n",
       "    .dataframe tbody tr th:only-of-type {\n",
       "        vertical-align: middle;\n",
       "    }\n",
       "\n",
       "    .dataframe tbody tr th {\n",
       "        vertical-align: top;\n",
       "    }\n",
       "\n",
       "    .dataframe thead th {\n",
       "        text-align: right;\n",
       "    }\n",
       "</style>\n",
       "<table border=\"1\" class=\"dataframe\">\n",
       "  <thead>\n",
       "    <tr style=\"text-align: right;\">\n",
       "      <th></th>\n",
       "      <th>fake or real</th>\n",
       "      <th>video_id</th>\n",
       "    </tr>\n",
       "  </thead>\n",
       "  <tbody>\n",
       "    <tr>\n",
       "      <th>19154</th>\n",
       "      <td>real</td>\n",
       "      <td>oznyyhvzxk.mp4</td>\n",
       "    </tr>\n",
       "    <tr>\n",
       "      <th>19155</th>\n",
       "      <td>real</td>\n",
       "      <td>bvpeerislp.mp4</td>\n",
       "    </tr>\n",
       "    <tr>\n",
       "      <th>19156</th>\n",
       "      <td>real</td>\n",
       "      <td>yhylappzid.mp4</td>\n",
       "    </tr>\n",
       "    <tr>\n",
       "      <th>19157</th>\n",
       "      <td>real</td>\n",
       "      <td>kwfdyqofzw.mp4</td>\n",
       "    </tr>\n",
       "    <tr>\n",
       "      <th>19158</th>\n",
       "      <td>real</td>\n",
       "      <td>blszgmxkvu.mp4</td>\n",
       "    </tr>\n",
       "    <tr>\n",
       "      <th>...</th>\n",
       "      <td>...</td>\n",
       "      <td>...</td>\n",
       "    </tr>\n",
       "    <tr>\n",
       "      <th>38303</th>\n",
       "      <td>real</td>\n",
       "      <td>vyecastqxh.mp4</td>\n",
       "    </tr>\n",
       "    <tr>\n",
       "      <th>38304</th>\n",
       "      <td>real</td>\n",
       "      <td>qybjkjeiyd.mp4</td>\n",
       "    </tr>\n",
       "    <tr>\n",
       "      <th>38305</th>\n",
       "      <td>real</td>\n",
       "      <td>nusbqbtqvi.mp4</td>\n",
       "    </tr>\n",
       "    <tr>\n",
       "      <th>38306</th>\n",
       "      <td>real</td>\n",
       "      <td>wswnlvujup.mp4</td>\n",
       "    </tr>\n",
       "    <tr>\n",
       "      <th>38307</th>\n",
       "      <td>real</td>\n",
       "      <td>dtkvzwnvmm.mp4</td>\n",
       "    </tr>\n",
       "  </tbody>\n",
       "</table>\n",
       "<p>19154 rows × 2 columns</p>\n",
       "</div>"
      ],
      "text/plain": [
       "      fake or real        video_id\n",
       "19154         real  oznyyhvzxk.mp4\n",
       "19155         real  bvpeerislp.mp4\n",
       "19156         real  yhylappzid.mp4\n",
       "19157         real  kwfdyqofzw.mp4\n",
       "19158         real  blszgmxkvu.mp4\n",
       "...            ...             ...\n",
       "38303         real  vyecastqxh.mp4\n",
       "38304         real  qybjkjeiyd.mp4\n",
       "38305         real  nusbqbtqvi.mp4\n",
       "38306         real  wswnlvujup.mp4\n",
       "38307         real  dtkvzwnvmm.mp4\n",
       "\n",
       "[19154 rows x 2 columns]"
      ]
     },
     "execution_count": 36,
     "metadata": {},
     "output_type": "execute_result"
    }
   ],
   "source": [
    "check_real_df = check_df[check_df['fake or real'] == 'real']\n",
    "check_real_df                         "
   ]
  },
  {
   "cell_type": "markdown",
   "id": "f9cb0c71",
   "metadata": {},
   "source": [
    "je le fusionne avec le df de base"
   ]
  },
  {
   "cell_type": "code",
   "execution_count": 37,
   "id": "757961d8",
   "metadata": {
    "ExecuteTime": {
     "end_time": "2022-03-02T08:30:53.870269Z",
     "start_time": "2022-03-02T08:30:53.775220Z"
    }
   },
   "outputs": [
    {
     "data": {
      "text/html": [
       "<div>\n",
       "<style scoped>\n",
       "    .dataframe tbody tr th:only-of-type {\n",
       "        vertical-align: middle;\n",
       "    }\n",
       "\n",
       "    .dataframe tbody tr th {\n",
       "        vertical-align: top;\n",
       "    }\n",
       "\n",
       "    .dataframe thead th {\n",
       "        text-align: right;\n",
       "    }\n",
       "</style>\n",
       "<table border=\"1\" class=\"dataframe\">\n",
       "  <thead>\n",
       "    <tr style=\"text-align: right;\">\n",
       "      <th></th>\n",
       "      <th>fake or real</th>\n",
       "      <th>video_id</th>\n",
       "      <th>videoname</th>\n",
       "      <th>label</th>\n",
       "      <th>split</th>\n",
       "      <th>original</th>\n",
       "    </tr>\n",
       "  </thead>\n",
       "  <tbody>\n",
       "    <tr>\n",
       "      <th>0</th>\n",
       "      <td>real</td>\n",
       "      <td>oznyyhvzxk.mp4</td>\n",
       "      <td>oznyyhvzxk.mp4</td>\n",
       "      <td>REAL</td>\n",
       "      <td>train</td>\n",
       "      <td>NaN</td>\n",
       "    </tr>\n",
       "    <tr>\n",
       "      <th>1</th>\n",
       "      <td>real</td>\n",
       "      <td>bvpeerislp.mp4</td>\n",
       "      <td>bvpeerislp.mp4</td>\n",
       "      <td>REAL</td>\n",
       "      <td>train</td>\n",
       "      <td>NaN</td>\n",
       "    </tr>\n",
       "    <tr>\n",
       "      <th>2</th>\n",
       "      <td>real</td>\n",
       "      <td>yhylappzid.mp4</td>\n",
       "      <td>yhylappzid.mp4</td>\n",
       "      <td>REAL</td>\n",
       "      <td>train</td>\n",
       "      <td>NaN</td>\n",
       "    </tr>\n",
       "    <tr>\n",
       "      <th>3</th>\n",
       "      <td>real</td>\n",
       "      <td>kwfdyqofzw.mp4</td>\n",
       "      <td>kwfdyqofzw.mp4</td>\n",
       "      <td>REAL</td>\n",
       "      <td>train</td>\n",
       "      <td>NaN</td>\n",
       "    </tr>\n",
       "    <tr>\n",
       "      <th>4</th>\n",
       "      <td>real</td>\n",
       "      <td>blszgmxkvu.mp4</td>\n",
       "      <td>blszgmxkvu.mp4</td>\n",
       "      <td>REAL</td>\n",
       "      <td>train</td>\n",
       "      <td>NaN</td>\n",
       "    </tr>\n",
       "    <tr>\n",
       "      <th>...</th>\n",
       "      <td>...</td>\n",
       "      <td>...</td>\n",
       "      <td>...</td>\n",
       "      <td>...</td>\n",
       "      <td>...</td>\n",
       "      <td>...</td>\n",
       "    </tr>\n",
       "    <tr>\n",
       "      <th>19149</th>\n",
       "      <td>real</td>\n",
       "      <td>vyecastqxh.mp4</td>\n",
       "      <td>vyecastqxh.mp4</td>\n",
       "      <td>REAL</td>\n",
       "      <td>train</td>\n",
       "      <td>NaN</td>\n",
       "    </tr>\n",
       "    <tr>\n",
       "      <th>19150</th>\n",
       "      <td>real</td>\n",
       "      <td>qybjkjeiyd.mp4</td>\n",
       "      <td>qybjkjeiyd.mp4</td>\n",
       "      <td>REAL</td>\n",
       "      <td>train</td>\n",
       "      <td>NaN</td>\n",
       "    </tr>\n",
       "    <tr>\n",
       "      <th>19151</th>\n",
       "      <td>real</td>\n",
       "      <td>nusbqbtqvi.mp4</td>\n",
       "      <td>nusbqbtqvi.mp4</td>\n",
       "      <td>REAL</td>\n",
       "      <td>train</td>\n",
       "      <td>NaN</td>\n",
       "    </tr>\n",
       "    <tr>\n",
       "      <th>19152</th>\n",
       "      <td>real</td>\n",
       "      <td>wswnlvujup.mp4</td>\n",
       "      <td>wswnlvujup.mp4</td>\n",
       "      <td>REAL</td>\n",
       "      <td>train</td>\n",
       "      <td>NaN</td>\n",
       "    </tr>\n",
       "    <tr>\n",
       "      <th>19153</th>\n",
       "      <td>real</td>\n",
       "      <td>dtkvzwnvmm.mp4</td>\n",
       "      <td>dtkvzwnvmm.mp4</td>\n",
       "      <td>REAL</td>\n",
       "      <td>train</td>\n",
       "      <td>NaN</td>\n",
       "    </tr>\n",
       "  </tbody>\n",
       "</table>\n",
       "<p>19154 rows × 6 columns</p>\n",
       "</div>"
      ],
      "text/plain": [
       "      fake or real        video_id       videoname label  split original\n",
       "0             real  oznyyhvzxk.mp4  oznyyhvzxk.mp4  REAL  train      NaN\n",
       "1             real  bvpeerislp.mp4  bvpeerislp.mp4  REAL  train      NaN\n",
       "2             real  yhylappzid.mp4  yhylappzid.mp4  REAL  train      NaN\n",
       "3             real  kwfdyqofzw.mp4  kwfdyqofzw.mp4  REAL  train      NaN\n",
       "4             real  blszgmxkvu.mp4  blszgmxkvu.mp4  REAL  train      NaN\n",
       "...            ...             ...             ...   ...    ...      ...\n",
       "19149         real  vyecastqxh.mp4  vyecastqxh.mp4  REAL  train      NaN\n",
       "19150         real  qybjkjeiyd.mp4  qybjkjeiyd.mp4  REAL  train      NaN\n",
       "19151         real  nusbqbtqvi.mp4  nusbqbtqvi.mp4  REAL  train      NaN\n",
       "19152         real  wswnlvujup.mp4  wswnlvujup.mp4  REAL  train      NaN\n",
       "19153         real  dtkvzwnvmm.mp4  dtkvzwnvmm.mp4  REAL  train      NaN\n",
       "\n",
       "[19154 rows x 6 columns]"
      ]
     },
     "execution_count": 37,
     "metadata": {},
     "output_type": "execute_result"
    }
   ],
   "source": [
    "check_real_df = check_real_df.merge(full_df, left_on='video_id', right_on='videoname')\n",
    "check_real_df"
   ]
  },
  {
   "cell_type": "markdown",
   "id": "3d262e67",
   "metadata": {},
   "source": [
    " je filtre sur la colonne label et je m'assure qu'il n'y a que des 'REAL'"
   ]
  },
  {
   "cell_type": "code",
   "execution_count": 38,
   "id": "5483c6f1",
   "metadata": {
    "ExecuteTime": {
     "end_time": "2022-03-02T08:30:55.797648Z",
     "start_time": "2022-03-02T08:30:55.763524Z"
    }
   },
   "outputs": [
    {
     "data": {
      "text/plain": [
       "True"
      ]
     },
     "execution_count": 38,
     "metadata": {},
     "output_type": "execute_result"
    }
   ],
   "source": [
    "len(check_real_df) == len(check_real_df[check_real_df['label'] == 'REAL'])"
   ]
  },
  {
   "cell_type": "markdown",
   "id": "68bd8bad",
   "metadata": {
    "ExecuteTime": {
     "end_time": "2022-03-01T09:48:51.161627Z",
     "start_time": "2022-03-01T09:48:51.153857Z"
    }
   },
   "source": [
    "Je fais la même chose avec les fake"
   ]
  },
  {
   "cell_type": "code",
   "execution_count": 39,
   "id": "2ff8c292",
   "metadata": {
    "ExecuteTime": {
     "end_time": "2022-03-02T08:30:58.469637Z",
     "start_time": "2022-03-02T08:30:58.446558Z"
    }
   },
   "outputs": [
    {
     "data": {
      "text/html": [
       "<div>\n",
       "<style scoped>\n",
       "    .dataframe tbody tr th:only-of-type {\n",
       "        vertical-align: middle;\n",
       "    }\n",
       "\n",
       "    .dataframe tbody tr th {\n",
       "        vertical-align: top;\n",
       "    }\n",
       "\n",
       "    .dataframe thead th {\n",
       "        text-align: right;\n",
       "    }\n",
       "</style>\n",
       "<table border=\"1\" class=\"dataframe\">\n",
       "  <thead>\n",
       "    <tr style=\"text-align: right;\">\n",
       "      <th></th>\n",
       "      <th>fake or real</th>\n",
       "      <th>video_id</th>\n",
       "    </tr>\n",
       "  </thead>\n",
       "  <tbody>\n",
       "    <tr>\n",
       "      <th>0</th>\n",
       "      <td>fake</td>\n",
       "      <td>ujslmfluwe.mp4</td>\n",
       "    </tr>\n",
       "    <tr>\n",
       "      <th>1</th>\n",
       "      <td>fake</td>\n",
       "      <td>httbasaevn.mp4</td>\n",
       "    </tr>\n",
       "    <tr>\n",
       "      <th>2</th>\n",
       "      <td>fake</td>\n",
       "      <td>bmsoarcvmn.mp4</td>\n",
       "    </tr>\n",
       "    <tr>\n",
       "      <th>3</th>\n",
       "      <td>fake</td>\n",
       "      <td>vwdveepjhm.mp4</td>\n",
       "    </tr>\n",
       "    <tr>\n",
       "      <th>4</th>\n",
       "      <td>fake</td>\n",
       "      <td>jyrvsifszr.mp4</td>\n",
       "    </tr>\n",
       "    <tr>\n",
       "      <th>...</th>\n",
       "      <td>...</td>\n",
       "      <td>...</td>\n",
       "    </tr>\n",
       "    <tr>\n",
       "      <th>19149</th>\n",
       "      <td>fake</td>\n",
       "      <td>pehfopbcsu.mp4</td>\n",
       "    </tr>\n",
       "    <tr>\n",
       "      <th>19150</th>\n",
       "      <td>fake</td>\n",
       "      <td>dzffetljax.mp4</td>\n",
       "    </tr>\n",
       "    <tr>\n",
       "      <th>19151</th>\n",
       "      <td>fake</td>\n",
       "      <td>gepynjpkym.mp4</td>\n",
       "    </tr>\n",
       "    <tr>\n",
       "      <th>19152</th>\n",
       "      <td>fake</td>\n",
       "      <td>dnwpesywuh.mp4</td>\n",
       "    </tr>\n",
       "    <tr>\n",
       "      <th>19153</th>\n",
       "      <td>fake</td>\n",
       "      <td>crrcreusag.mp4</td>\n",
       "    </tr>\n",
       "  </tbody>\n",
       "</table>\n",
       "<p>19154 rows × 2 columns</p>\n",
       "</div>"
      ],
      "text/plain": [
       "      fake or real        video_id\n",
       "0             fake  ujslmfluwe.mp4\n",
       "1             fake  httbasaevn.mp4\n",
       "2             fake  bmsoarcvmn.mp4\n",
       "3             fake  vwdveepjhm.mp4\n",
       "4             fake  jyrvsifszr.mp4\n",
       "...            ...             ...\n",
       "19149         fake  pehfopbcsu.mp4\n",
       "19150         fake  dzffetljax.mp4\n",
       "19151         fake  gepynjpkym.mp4\n",
       "19152         fake  dnwpesywuh.mp4\n",
       "19153         fake  crrcreusag.mp4\n",
       "\n",
       "[19154 rows x 2 columns]"
      ]
     },
     "execution_count": 39,
     "metadata": {},
     "output_type": "execute_result"
    }
   ],
   "source": [
    "check_fake_df = check_df[check_df['fake or real'] == 'fake']\n",
    "check_fake_df"
   ]
  },
  {
   "cell_type": "code",
   "execution_count": 40,
   "id": "13a7183a",
   "metadata": {
    "ExecuteTime": {
     "end_time": "2022-03-02T08:30:59.205708Z",
     "start_time": "2022-03-02T08:30:59.117754Z"
    }
   },
   "outputs": [
    {
     "data": {
      "text/html": [
       "<div>\n",
       "<style scoped>\n",
       "    .dataframe tbody tr th:only-of-type {\n",
       "        vertical-align: middle;\n",
       "    }\n",
       "\n",
       "    .dataframe tbody tr th {\n",
       "        vertical-align: top;\n",
       "    }\n",
       "\n",
       "    .dataframe thead th {\n",
       "        text-align: right;\n",
       "    }\n",
       "</style>\n",
       "<table border=\"1\" class=\"dataframe\">\n",
       "  <thead>\n",
       "    <tr style=\"text-align: right;\">\n",
       "      <th></th>\n",
       "      <th>fake or real</th>\n",
       "      <th>video_id</th>\n",
       "      <th>videoname</th>\n",
       "      <th>label</th>\n",
       "      <th>split</th>\n",
       "      <th>original</th>\n",
       "    </tr>\n",
       "  </thead>\n",
       "  <tbody>\n",
       "    <tr>\n",
       "      <th>0</th>\n",
       "      <td>fake</td>\n",
       "      <td>ujslmfluwe.mp4</td>\n",
       "      <td>ujslmfluwe.mp4</td>\n",
       "      <td>FAKE</td>\n",
       "      <td>train</td>\n",
       "      <td>oznyyhvzxk.mp4</td>\n",
       "    </tr>\n",
       "    <tr>\n",
       "      <th>1</th>\n",
       "      <td>fake</td>\n",
       "      <td>httbasaevn.mp4</td>\n",
       "      <td>httbasaevn.mp4</td>\n",
       "      <td>FAKE</td>\n",
       "      <td>train</td>\n",
       "      <td>bvpeerislp.mp4</td>\n",
       "    </tr>\n",
       "    <tr>\n",
       "      <th>2</th>\n",
       "      <td>fake</td>\n",
       "      <td>bmsoarcvmn.mp4</td>\n",
       "      <td>bmsoarcvmn.mp4</td>\n",
       "      <td>FAKE</td>\n",
       "      <td>train</td>\n",
       "      <td>yhylappzid.mp4</td>\n",
       "    </tr>\n",
       "    <tr>\n",
       "      <th>3</th>\n",
       "      <td>fake</td>\n",
       "      <td>vwdveepjhm.mp4</td>\n",
       "      <td>vwdveepjhm.mp4</td>\n",
       "      <td>FAKE</td>\n",
       "      <td>train</td>\n",
       "      <td>kwfdyqofzw.mp4</td>\n",
       "    </tr>\n",
       "    <tr>\n",
       "      <th>4</th>\n",
       "      <td>fake</td>\n",
       "      <td>jyrvsifszr.mp4</td>\n",
       "      <td>jyrvsifszr.mp4</td>\n",
       "      <td>FAKE</td>\n",
       "      <td>train</td>\n",
       "      <td>blszgmxkvu.mp4</td>\n",
       "    </tr>\n",
       "    <tr>\n",
       "      <th>...</th>\n",
       "      <td>...</td>\n",
       "      <td>...</td>\n",
       "      <td>...</td>\n",
       "      <td>...</td>\n",
       "      <td>...</td>\n",
       "      <td>...</td>\n",
       "    </tr>\n",
       "    <tr>\n",
       "      <th>19149</th>\n",
       "      <td>fake</td>\n",
       "      <td>pehfopbcsu.mp4</td>\n",
       "      <td>pehfopbcsu.mp4</td>\n",
       "      <td>FAKE</td>\n",
       "      <td>train</td>\n",
       "      <td>vyecastqxh.mp4</td>\n",
       "    </tr>\n",
       "    <tr>\n",
       "      <th>19150</th>\n",
       "      <td>fake</td>\n",
       "      <td>dzffetljax.mp4</td>\n",
       "      <td>dzffetljax.mp4</td>\n",
       "      <td>FAKE</td>\n",
       "      <td>train</td>\n",
       "      <td>qybjkjeiyd.mp4</td>\n",
       "    </tr>\n",
       "    <tr>\n",
       "      <th>19151</th>\n",
       "      <td>fake</td>\n",
       "      <td>gepynjpkym.mp4</td>\n",
       "      <td>gepynjpkym.mp4</td>\n",
       "      <td>FAKE</td>\n",
       "      <td>train</td>\n",
       "      <td>nusbqbtqvi.mp4</td>\n",
       "    </tr>\n",
       "    <tr>\n",
       "      <th>19152</th>\n",
       "      <td>fake</td>\n",
       "      <td>dnwpesywuh.mp4</td>\n",
       "      <td>dnwpesywuh.mp4</td>\n",
       "      <td>FAKE</td>\n",
       "      <td>train</td>\n",
       "      <td>wswnlvujup.mp4</td>\n",
       "    </tr>\n",
       "    <tr>\n",
       "      <th>19153</th>\n",
       "      <td>fake</td>\n",
       "      <td>crrcreusag.mp4</td>\n",
       "      <td>crrcreusag.mp4</td>\n",
       "      <td>FAKE</td>\n",
       "      <td>train</td>\n",
       "      <td>dtkvzwnvmm.mp4</td>\n",
       "    </tr>\n",
       "  </tbody>\n",
       "</table>\n",
       "<p>19154 rows × 6 columns</p>\n",
       "</div>"
      ],
      "text/plain": [
       "      fake or real        video_id       videoname label  split  \\\n",
       "0             fake  ujslmfluwe.mp4  ujslmfluwe.mp4  FAKE  train   \n",
       "1             fake  httbasaevn.mp4  httbasaevn.mp4  FAKE  train   \n",
       "2             fake  bmsoarcvmn.mp4  bmsoarcvmn.mp4  FAKE  train   \n",
       "3             fake  vwdveepjhm.mp4  vwdveepjhm.mp4  FAKE  train   \n",
       "4             fake  jyrvsifszr.mp4  jyrvsifszr.mp4  FAKE  train   \n",
       "...            ...             ...             ...   ...    ...   \n",
       "19149         fake  pehfopbcsu.mp4  pehfopbcsu.mp4  FAKE  train   \n",
       "19150         fake  dzffetljax.mp4  dzffetljax.mp4  FAKE  train   \n",
       "19151         fake  gepynjpkym.mp4  gepynjpkym.mp4  FAKE  train   \n",
       "19152         fake  dnwpesywuh.mp4  dnwpesywuh.mp4  FAKE  train   \n",
       "19153         fake  crrcreusag.mp4  crrcreusag.mp4  FAKE  train   \n",
       "\n",
       "             original  \n",
       "0      oznyyhvzxk.mp4  \n",
       "1      bvpeerislp.mp4  \n",
       "2      yhylappzid.mp4  \n",
       "3      kwfdyqofzw.mp4  \n",
       "4      blszgmxkvu.mp4  \n",
       "...               ...  \n",
       "19149  vyecastqxh.mp4  \n",
       "19150  qybjkjeiyd.mp4  \n",
       "19151  nusbqbtqvi.mp4  \n",
       "19152  wswnlvujup.mp4  \n",
       "19153  dtkvzwnvmm.mp4  \n",
       "\n",
       "[19154 rows x 6 columns]"
      ]
     },
     "execution_count": 40,
     "metadata": {},
     "output_type": "execute_result"
    }
   ],
   "source": [
    "check_fake_df = check_fake_df.merge(full_df, left_on='video_id', right_on='videoname')\n",
    "check_fake_df"
   ]
  },
  {
   "cell_type": "code",
   "execution_count": 41,
   "id": "8369213d",
   "metadata": {
    "ExecuteTime": {
     "end_time": "2022-03-02T08:30:59.727991Z",
     "start_time": "2022-03-02T08:30:59.694189Z"
    }
   },
   "outputs": [
    {
     "data": {
      "text/plain": [
       "True"
      ]
     },
     "execution_count": 41,
     "metadata": {},
     "output_type": "execute_result"
    }
   ],
   "source": [
    "len(check_fake_df) == len(check_fake_df[check_fake_df['label'] == 'FAKE'])"
   ]
  },
  {
   "cell_type": "markdown",
   "id": "f619690d",
   "metadata": {},
   "source": [
    "Pour les fakes, je m'assure également qu'il n'y a pas de doublons parmi les 'original'"
   ]
  },
  {
   "cell_type": "code",
   "execution_count": 42,
   "id": "2b5749ae",
   "metadata": {
    "ExecuteTime": {
     "end_time": "2022-03-02T08:31:00.917984Z",
     "start_time": "2022-03-02T08:31:00.893233Z"
    }
   },
   "outputs": [
    {
     "data": {
      "text/plain": [
       "True"
      ]
     },
     "execution_count": 42,
     "metadata": {},
     "output_type": "execute_result"
    }
   ],
   "source": [
    "len(check_fake_df[['original']].drop_duplicates()) == len(check_fake_df)"
   ]
  },
  {
   "cell_type": "markdown",
   "id": "75be365a",
   "metadata": {},
   "source": [
    "## J'importe la liste des blobs dans les bucket et je check les CSV"
   ]
  },
  {
   "cell_type": "code",
   "execution_count": 43,
   "id": "8d431ba8",
   "metadata": {
    "ExecuteTime": {
     "end_time": "2022-03-02T08:31:04.357286Z",
     "start_time": "2022-03-02T08:31:04.351533Z"
    }
   },
   "outputs": [],
   "source": [
    "def list_blobs(bucket_name):\n",
    "    \"\"\"Lists all the blobs in the bucket.\"\"\"\n",
    "    # bucket_name = \"your-bucket-name\"\n",
    "    storage_client = storage.Client().from_service_account_json('../01/kfc_bucket.json')\n",
    "    blobs = storage_client.list_blobs(bucket_name)\n",
    "\n",
    "    # List of videos in the bucket\n",
    "    list_blobs = [blob.name for blob in blobs]\n",
    "    list_videos = [blob.rsplit(\"/\")[-1] for blob in list_blobs]\n",
    "    \n",
    "    return list_blobs, list_videos"
   ]
  },
  {
   "cell_type": "code",
   "execution_count": 44,
   "id": "14adf45e",
   "metadata": {
    "ExecuteTime": {
     "end_time": "2022-03-02T08:31:35.456986Z",
     "start_time": "2022-03-02T08:31:05.698056Z"
    }
   },
   "outputs": [
    {
     "data": {
      "text/html": [
       "<div>\n",
       "<style scoped>\n",
       "    .dataframe tbody tr th:only-of-type {\n",
       "        vertical-align: middle;\n",
       "    }\n",
       "\n",
       "    .dataframe tbody tr th {\n",
       "        vertical-align: top;\n",
       "    }\n",
       "\n",
       "    .dataframe thead th {\n",
       "        text-align: right;\n",
       "    }\n",
       "</style>\n",
       "<table border=\"1\" class=\"dataframe\">\n",
       "  <thead>\n",
       "    <tr style=\"text-align: right;\">\n",
       "      <th></th>\n",
       "      <th>glob</th>\n",
       "      <th>video_id</th>\n",
       "    </tr>\n",
       "  </thead>\n",
       "  <tbody>\n",
       "    <tr>\n",
       "      <th>0</th>\n",
       "      <td>Full_dataset/</td>\n",
       "      <td></td>\n",
       "    </tr>\n",
       "    <tr>\n",
       "      <th>1</th>\n",
       "      <td>Full_dataset/aaagqkcdis.mp4</td>\n",
       "      <td>aaagqkcdis.mp4</td>\n",
       "    </tr>\n",
       "    <tr>\n",
       "      <th>2</th>\n",
       "      <td>Full_dataset/aaaoqepxnf.mp4</td>\n",
       "      <td>aaaoqepxnf.mp4</td>\n",
       "    </tr>\n",
       "    <tr>\n",
       "      <th>3</th>\n",
       "      <td>Full_dataset/aaapwqhxli.mp4</td>\n",
       "      <td>aaapwqhxli.mp4</td>\n",
       "    </tr>\n",
       "    <tr>\n",
       "      <th>4</th>\n",
       "      <td>Full_dataset/aaavbjopeq.mp4</td>\n",
       "      <td>aaavbjopeq.mp4</td>\n",
       "    </tr>\n",
       "    <tr>\n",
       "      <th>...</th>\n",
       "      <td>...</td>\n",
       "      <td>...</td>\n",
       "    </tr>\n",
       "    <tr>\n",
       "      <th>119199</th>\n",
       "      <td>test/aassnaulhq.mp4</td>\n",
       "      <td>aassnaulhq.mp4</td>\n",
       "    </tr>\n",
       "    <tr>\n",
       "      <th>119200</th>\n",
       "      <td>test/aktnlyqpah.mp4</td>\n",
       "      <td>aktnlyqpah.mp4</td>\n",
       "    </tr>\n",
       "    <tr>\n",
       "      <th>119201</th>\n",
       "      <td>test/alrtntfxtd.mp4</td>\n",
       "      <td>alrtntfxtd.mp4</td>\n",
       "    </tr>\n",
       "    <tr>\n",
       "      <th>119202</th>\n",
       "      <td>test/file.mp4</td>\n",
       "      <td>file.mp4</td>\n",
       "    </tr>\n",
       "    <tr>\n",
       "      <th>119203</th>\n",
       "      <td>tests_buckets/metadata/metadata.csv</td>\n",
       "      <td>metadata.csv</td>\n",
       "    </tr>\n",
       "  </tbody>\n",
       "</table>\n",
       "<p>119204 rows × 2 columns</p>\n",
       "</div>"
      ],
      "text/plain": [
       "                                       glob        video_id\n",
       "0                             Full_dataset/                \n",
       "1               Full_dataset/aaagqkcdis.mp4  aaagqkcdis.mp4\n",
       "2               Full_dataset/aaaoqepxnf.mp4  aaaoqepxnf.mp4\n",
       "3               Full_dataset/aaapwqhxli.mp4  aaapwqhxli.mp4\n",
       "4               Full_dataset/aaavbjopeq.mp4  aaavbjopeq.mp4\n",
       "...                                     ...             ...\n",
       "119199                  test/aassnaulhq.mp4  aassnaulhq.mp4\n",
       "119200                  test/aktnlyqpah.mp4  aktnlyqpah.mp4\n",
       "119201                  test/alrtntfxtd.mp4  alrtntfxtd.mp4\n",
       "119202                        test/file.mp4        file.mp4\n",
       "119203  tests_buckets/metadata/metadata.csv    metadata.csv\n",
       "\n",
       "[119204 rows x 2 columns]"
      ]
     },
     "execution_count": 44,
     "metadata": {},
     "output_type": "execute_result"
    }
   ],
   "source": [
    "bucket = 'bachata-kfc-bucket'\n",
    "\n",
    "list_blobs, list_videos = list_blobs(bucket)\n",
    "\n",
    "list_of_videos_on_bucket = pd.DataFrame(zip(list_blobs, list_videos), columns=['glob', 'video_id'])\n",
    "list_of_videos_on_bucket"
   ]
  },
  {
   "cell_type": "markdown",
   "id": "e0720226",
   "metadata": {},
   "source": [
    "### J'importe la liste des vidéos à sélectionner"
   ]
  },
  {
   "cell_type": "code",
   "execution_count": 45,
   "id": "c039b6a3",
   "metadata": {
    "ExecuteTime": {
     "end_time": "2022-03-02T08:31:41.134746Z",
     "start_time": "2022-03-02T08:31:41.085081Z"
    }
   },
   "outputs": [
    {
     "data": {
      "text/html": [
       "<div>\n",
       "<style scoped>\n",
       "    .dataframe tbody tr th:only-of-type {\n",
       "        vertical-align: middle;\n",
       "    }\n",
       "\n",
       "    .dataframe tbody tr th {\n",
       "        vertical-align: top;\n",
       "    }\n",
       "\n",
       "    .dataframe thead th {\n",
       "        text-align: right;\n",
       "    }\n",
       "</style>\n",
       "<table border=\"1\" class=\"dataframe\">\n",
       "  <thead>\n",
       "    <tr style=\"text-align: right;\">\n",
       "      <th></th>\n",
       "      <th>fake or real</th>\n",
       "      <th>video_id</th>\n",
       "    </tr>\n",
       "  </thead>\n",
       "  <tbody>\n",
       "    <tr>\n",
       "      <th>0</th>\n",
       "      <td>fake</td>\n",
       "      <td>ujslmfluwe.mp4</td>\n",
       "    </tr>\n",
       "    <tr>\n",
       "      <th>1</th>\n",
       "      <td>fake</td>\n",
       "      <td>httbasaevn.mp4</td>\n",
       "    </tr>\n",
       "    <tr>\n",
       "      <th>2</th>\n",
       "      <td>fake</td>\n",
       "      <td>bmsoarcvmn.mp4</td>\n",
       "    </tr>\n",
       "    <tr>\n",
       "      <th>3</th>\n",
       "      <td>fake</td>\n",
       "      <td>vwdveepjhm.mp4</td>\n",
       "    </tr>\n",
       "    <tr>\n",
       "      <th>4</th>\n",
       "      <td>fake</td>\n",
       "      <td>jyrvsifszr.mp4</td>\n",
       "    </tr>\n",
       "    <tr>\n",
       "      <th>...</th>\n",
       "      <td>...</td>\n",
       "      <td>...</td>\n",
       "    </tr>\n",
       "    <tr>\n",
       "      <th>38303</th>\n",
       "      <td>real</td>\n",
       "      <td>vyecastqxh.mp4</td>\n",
       "    </tr>\n",
       "    <tr>\n",
       "      <th>38304</th>\n",
       "      <td>real</td>\n",
       "      <td>qybjkjeiyd.mp4</td>\n",
       "    </tr>\n",
       "    <tr>\n",
       "      <th>38305</th>\n",
       "      <td>real</td>\n",
       "      <td>nusbqbtqvi.mp4</td>\n",
       "    </tr>\n",
       "    <tr>\n",
       "      <th>38306</th>\n",
       "      <td>real</td>\n",
       "      <td>wswnlvujup.mp4</td>\n",
       "    </tr>\n",
       "    <tr>\n",
       "      <th>38307</th>\n",
       "      <td>real</td>\n",
       "      <td>dtkvzwnvmm.mp4</td>\n",
       "    </tr>\n",
       "  </tbody>\n",
       "</table>\n",
       "<p>38308 rows × 2 columns</p>\n",
       "</div>"
      ],
      "text/plain": [
       "      fake or real        video_id\n",
       "0             fake  ujslmfluwe.mp4\n",
       "1             fake  httbasaevn.mp4\n",
       "2             fake  bmsoarcvmn.mp4\n",
       "3             fake  vwdveepjhm.mp4\n",
       "4             fake  jyrvsifszr.mp4\n",
       "...            ...             ...\n",
       "38303         real  vyecastqxh.mp4\n",
       "38304         real  qybjkjeiyd.mp4\n",
       "38305         real  nusbqbtqvi.mp4\n",
       "38306         real  wswnlvujup.mp4\n",
       "38307         real  dtkvzwnvmm.mp4\n",
       "\n",
       "[38308 rows x 2 columns]"
      ]
     },
     "execution_count": 45,
     "metadata": {},
     "output_type": "execute_result"
    }
   ],
   "source": [
    "list_of_videos_to_select = pd.read_csv('list_of_videos_to_select.csv')\n",
    "list_of_videos_to_select"
   ]
  },
  {
   "cell_type": "code",
   "execution_count": 46,
   "id": "736096ee",
   "metadata": {
    "ExecuteTime": {
     "end_time": "2022-03-02T08:31:44.140612Z",
     "start_time": "2022-03-02T08:31:44.135962Z"
    }
   },
   "outputs": [],
   "source": [
    "bucket_video_folder = 'Full_dataset/'"
   ]
  },
  {
   "cell_type": "code",
   "execution_count": 47,
   "id": "97fc8714",
   "metadata": {
    "ExecuteTime": {
     "end_time": "2022-03-02T08:31:44.683979Z",
     "start_time": "2022-03-02T08:31:44.670210Z"
    }
   },
   "outputs": [],
   "source": [
    "list_of_videos_to_select['glob'] = bucket_video_folder + list_of_videos_to_select['video_id']"
   ]
  },
  {
   "cell_type": "code",
   "execution_count": 48,
   "id": "46c9dfd0",
   "metadata": {
    "ExecuteTime": {
     "end_time": "2022-03-02T08:31:45.288643Z",
     "start_time": "2022-03-02T08:31:45.270104Z"
    }
   },
   "outputs": [
    {
     "data": {
      "text/html": [
       "<div>\n",
       "<style scoped>\n",
       "    .dataframe tbody tr th:only-of-type {\n",
       "        vertical-align: middle;\n",
       "    }\n",
       "\n",
       "    .dataframe tbody tr th {\n",
       "        vertical-align: top;\n",
       "    }\n",
       "\n",
       "    .dataframe thead th {\n",
       "        text-align: right;\n",
       "    }\n",
       "</style>\n",
       "<table border=\"1\" class=\"dataframe\">\n",
       "  <thead>\n",
       "    <tr style=\"text-align: right;\">\n",
       "      <th></th>\n",
       "      <th>fake or real</th>\n",
       "      <th>video_id</th>\n",
       "      <th>glob</th>\n",
       "    </tr>\n",
       "  </thead>\n",
       "  <tbody>\n",
       "    <tr>\n",
       "      <th>0</th>\n",
       "      <td>fake</td>\n",
       "      <td>ujslmfluwe.mp4</td>\n",
       "      <td>Full_dataset/ujslmfluwe.mp4</td>\n",
       "    </tr>\n",
       "    <tr>\n",
       "      <th>1</th>\n",
       "      <td>fake</td>\n",
       "      <td>httbasaevn.mp4</td>\n",
       "      <td>Full_dataset/httbasaevn.mp4</td>\n",
       "    </tr>\n",
       "    <tr>\n",
       "      <th>2</th>\n",
       "      <td>fake</td>\n",
       "      <td>bmsoarcvmn.mp4</td>\n",
       "      <td>Full_dataset/bmsoarcvmn.mp4</td>\n",
       "    </tr>\n",
       "    <tr>\n",
       "      <th>3</th>\n",
       "      <td>fake</td>\n",
       "      <td>vwdveepjhm.mp4</td>\n",
       "      <td>Full_dataset/vwdveepjhm.mp4</td>\n",
       "    </tr>\n",
       "    <tr>\n",
       "      <th>4</th>\n",
       "      <td>fake</td>\n",
       "      <td>jyrvsifszr.mp4</td>\n",
       "      <td>Full_dataset/jyrvsifszr.mp4</td>\n",
       "    </tr>\n",
       "  </tbody>\n",
       "</table>\n",
       "</div>"
      ],
      "text/plain": [
       "  fake or real        video_id                         glob\n",
       "0         fake  ujslmfluwe.mp4  Full_dataset/ujslmfluwe.mp4\n",
       "1         fake  httbasaevn.mp4  Full_dataset/httbasaevn.mp4\n",
       "2         fake  bmsoarcvmn.mp4  Full_dataset/bmsoarcvmn.mp4\n",
       "3         fake  vwdveepjhm.mp4  Full_dataset/vwdveepjhm.mp4\n",
       "4         fake  jyrvsifszr.mp4  Full_dataset/jyrvsifszr.mp4"
      ]
     },
     "execution_count": 48,
     "metadata": {},
     "output_type": "execute_result"
    }
   ],
   "source": [
    "list_of_videos_to_select.head()"
   ]
  },
  {
   "cell_type": "markdown",
   "id": "95b1f932",
   "metadata": {},
   "source": [
    "### je check que les vidéos du csv sont bien TOUTES dans le bucket. Sinon c'est la merdasse"
   ]
  },
  {
   "cell_type": "code",
   "execution_count": 49,
   "id": "3c2d7211",
   "metadata": {
    "ExecuteTime": {
     "end_time": "2022-03-02T08:31:48.550051Z",
     "start_time": "2022-03-02T08:31:48.449072Z"
    }
   },
   "outputs": [],
   "source": [
    "list_of_common_videos_in_csv_and_bucket = list_of_videos_to_select.merge(list_of_videos_on_bucket, on= 'video_id', how = 'inner')"
   ]
  },
  {
   "cell_type": "code",
   "execution_count": 50,
   "id": "c65d17b7",
   "metadata": {
    "ExecuteTime": {
     "end_time": "2022-03-02T08:31:49.392509Z",
     "start_time": "2022-03-02T08:31:49.385939Z"
    }
   },
   "outputs": [
    {
     "data": {
      "text/plain": [
       "38308"
      ]
     },
     "execution_count": 50,
     "metadata": {},
     "output_type": "execute_result"
    }
   ],
   "source": [
    "len(list_of_common_videos_in_csv_and_bucket)"
   ]
  },
  {
   "cell_type": "code",
   "execution_count": 51,
   "id": "36e51691",
   "metadata": {
    "ExecuteTime": {
     "end_time": "2022-03-02T08:31:49.931038Z",
     "start_time": "2022-03-02T08:31:49.923693Z"
    }
   },
   "outputs": [
    {
     "data": {
      "text/plain": [
       "38308"
      ]
     },
     "execution_count": 51,
     "metadata": {},
     "output_type": "execute_result"
    }
   ],
   "source": [
    "len(list_of_videos_to_select)"
   ]
  }
 ],
 "metadata": {
  "kernelspec": {
   "display_name": "Python 3 (ipykernel)",
   "language": "python",
   "name": "python3"
  },
  "language_info": {
   "codemirror_mode": {
    "name": "ipython",
    "version": 3
   },
   "file_extension": ".py",
   "mimetype": "text/x-python",
   "name": "python",
   "nbconvert_exporter": "python",
   "pygments_lexer": "ipython3",
   "version": "3.8.12"
  },
  "toc": {
   "base_numbering": 1,
   "nav_menu": {},
   "number_sections": true,
   "sideBar": true,
   "skip_h1_title": false,
   "title_cell": "Table of Contents",
   "title_sidebar": "Contents",
   "toc_cell": false,
   "toc_position": {},
   "toc_section_display": true,
   "toc_window_display": true
  }
 },
 "nbformat": 4,
 "nbformat_minor": 5
}
